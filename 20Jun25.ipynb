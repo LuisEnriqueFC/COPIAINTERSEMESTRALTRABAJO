{
 "cells": [
  {
   "cell_type": "markdown",
   "id": "6c612b73-ef80-4181-84e7-1bd96fa80212",
   "metadata": {},
   "source": [
    "# Dominios de funciones"
   ]
  },
  {
   "cell_type": "code",
   "execution_count": null,
   "id": "744f2494-dac3-48c5-8496-a9e7668dd90d",
   "metadata": {},
   "outputs": [],
   "source": [
    "import numpy as np\n",
    "import matplotlib.pyplot as plt"
   ]
  },
  {
   "cell_type": "code",
   "execution_count": null,
   "id": "a18d63ba-854e-45cf-bcab-e2e9c385b7ca",
   "metadata": {},
   "outputs": [],
   "source": [
    "pares = [2*i for i in range(11)]\n",
    "pares"
   ]
  },
  {
   "cell_type": "code",
   "execution_count": null,
   "id": "96db1aba-c369-4243-a749-abc8039755c2",
   "metadata": {},
   "outputs": [],
   "source": [
    "impares = [2*i+1 for i in range(11)]\n",
    "impares"
   ]
  },
  {
   "cell_type": "code",
   "execution_count": null,
   "id": "6c709739-0a6d-4cfc-814a-0cdef0f81a76",
   "metadata": {},
   "outputs": [],
   "source": [
    "cuad = [i**2 for i in range(20)]\n",
    "\n",
    "plt.figure(figsize=(5,3))\n",
    "plt.plot(range(20),cuad,label=\"x^2\")\n",
    "plt.plot(range(20),cuad,'r.',label=\"x^2\")\n",
    "# plt.scatter(range(20),cuad,label=\"x^2\")\n",
    "plt.xlabel(\"x\")\n",
    "plt.ylabel(\"f'(x)\")\n",
    "plt.title(\"Título\")\n",
    "plt.legend()"
   ]
  },
  {
   "cell_type": "code",
   "execution_count": null,
   "id": "ddbb056e-1925-4bd2-bce4-a2ef02bdf3bf",
   "metadata": {},
   "outputs": [],
   "source": [
    "dom1 = np.arange(-np.pi,np.pi,0.1)\n",
    "sen1 = [np.sin(i) for i in dom1]\n",
    "\n",
    "plt.figure(figsize=(5,3))\n",
    "plt.plot(dom1,sen1,label=\"sin(x)\")\n",
    "plt.plot(dom1,sen1,'g.',label=\"sin(x)\")\n",
    "plt.xlabel(\"x\")\n",
    "plt.ylabel(\"f'(x)\")\n",
    "plt.title(\"Título\")\n",
    "plt.legend()"
   ]
  },
  {
   "cell_type": "code",
   "execution_count": null,
   "id": "3bab6979-05c2-4cd0-9aa8-937134b5a241",
   "metadata": {},
   "outputs": [],
   "source": [
    "dom2 = np.linspace(-np.pi,np.pi,100)\n",
    "ejemplo = np.sin(dom2)\n",
    "sen2 = [np.sin(i) for i in dom2]\n",
    "\n",
    "plt.figure(figsize=(5,3))\n",
    "plt.plot(dom2,ejemplo,label=\"sin(x)\")\n",
    "plt.plot(dom2,ejemplo,'b.',label=\"sin(x)\")\n",
    "plt.xlabel(\"x\")\n",
    "plt.ylabel(\"f'(x)\")\n",
    "plt.title(\"Título\")\n",
    "plt.legend()"
   ]
  },
  {
   "cell_type": "markdown",
   "id": "e012944b-e9aa-44ae-808a-26b68147e553",
   "metadata": {},
   "source": [
    "## Mapas de calor, curvas de nivel, diagramas de flujo y campos vectoriales."
   ]
  },
  {
   "cell_type": "code",
   "execution_count": null,
   "id": "83d94c90-492a-4350-9e79-dd30311faafd",
   "metadata": {},
   "outputs": [],
   "source": [
    "M = np.random.rand(10,10)\n",
    "plt.figure(figsize=(5,3))\n",
    "plt.imshow(M,cmap='inferno',extent=[0,1,0,1])\n",
    "plt.colorbar(label=\"Valores\")\n",
    "plt.title(\"Título\")"
   ]
  },
  {
   "cell_type": "code",
   "execution_count": null,
   "id": "95d39823-f13e-4f7d-a2ab-0363aa7ce29f",
   "metadata": {},
   "outputs": [],
   "source": [
    "xs = np.linspace(0.1,10,20)\n",
    "ys = np.linspace(0.1,10,20)\n",
    "X , Y = np.meshgrid(xs,ys)\n",
    "\n",
    "u = X-X*Y #f(x,y)\n",
    "v = X*Y-Y #g(x,y)\n",
    "\n",
    "plt.figure(figsize=(16, 6))\n",
    "plt.subplot(1,2,1)\n",
    "plt.streamplot(xs,ys,u,v)\n",
    "\n",
    "plt.subplot(1,2,2)\n",
    "plt.quiver(xs,ys,u,v,scale=500,width=0.003)"
   ]
  },
  {
   "cell_type": "code",
   "execution_count": null,
   "id": "ff734d99-c949-4baf-a4df-6e0f786ff034",
   "metadata": {},
   "outputs": [],
   "source": [
    "xs = np.linspace(0.1,10,20)\n",
    "ys = np.linspace(0.1,10,20)\n",
    "X , Y = np.meshgrid(xs,ys)\n",
    "\n",
    "Z = np.log(Y)+np.log(X)-X-Y\n",
    "\n",
    "plt.figure(figsize=(16, 6))\n",
    "plt.subplot(1,2,1)\n",
    "plt.contour(xs,ys,Z,levels=20)\n",
    "\n",
    "plt.subplot(1,2,2)\n",
    "plt.contourf(xs,ys,Z,levels=20)"
   ]
  },
  {
   "cell_type": "markdown",
   "id": "3e663762-b9d1-476a-81f0-082aaa9ef1f5",
   "metadata": {},
   "source": [
    "## Ejercicio: potencial y campo eléctrico de un dipolo eléctrico\n",
    "\n",
    "Calcular el potencial y campo eléctrico de un dipolo elétrico. Para ello se sabe que \n",
    "\n",
    "$$V(x,y) =  \\frac{1}{4\\pi\\epsilon_0}\\left(\\frac{q}{r_+}-\\frac{q}{r_-}\\right)$$\n",
    "\n",
    "y que además $E = -\\nabla V$. Pero aún no hemos visto diferenciación numérica. Pero se sabe que considerando que la distancia entre cargas es menor a $r$\n",
    "\n",
    "$$E(x,y) = E_+ + E_- =  \\frac{1}{4\\pi\\epsilon_0}\\left(\\frac{q}{r_+^2}-\\frac{q}{r_-^2}\\right)$$"
   ]
  },
  {
   "cell_type": "code",
   "execution_count": null,
   "id": "d40a133f-0150-492c-a0da-46d7419f5c41",
   "metadata": {},
   "outputs": [],
   "source": [
    "q = 1      \n",
    "d = 0.5    \n",
    "k = 1 / (4 * np.pi * 8.854e-12)  # constante de Coulomb \n",
    "\n",
    "xs = np.linspace(-1, 1, 100)\n",
    "ys = np.linspace(-1, 1, 100)\n",
    "X, Y = np.meshgrid(xs, ys)\n",
    "\n",
    "# Posiciones de las cargas\n",
    "r_pos  = np.sqrt((X - d/2)**2 + Y**2)+1\n",
    "r_neg = np.sqrt((X + d/2)**2 + Y**2)+1\n",
    "\n",
    "# Potencial eléctrico\n",
    "V = q / r_pos - q / r_neg\n",
    "\n",
    "# Graficar curvas de nivel\n",
    "plt.figure(figsize=(5, 3))\n",
    "contours = plt.contourf(X, Y, V, levels=50, cmap='coolwarm')\n",
    "plt.colorbar(label='Potencial eléctrico (V)')\n",
    "plt.xlabel('x')\n",
    "plt.ylabel('y')\n",
    "plt.title('Curvas de nivel del potencial eléctrico de un dipolo')\n",
    "plt.scatter([-d/2, d/2], [0, 0], c=['blue', 'red'], s=100, label='Cargas')\n",
    "plt.legend()\n",
    "plt.grid(True)\n",
    "plt.axis('equal')\n",
    "plt.show()"
   ]
  },
  {
   "cell_type": "code",
   "execution_count": null,
   "id": "98bf5a07-152b-44ed-b0f4-637a80c4a8a7",
   "metadata": {},
   "outputs": [],
   "source": [
    "#Utilizando quiver y streamplot\n",
    "X,Y = np.meshgrid( np.arange(-1,1,0.05), np.arange(-1,1,0.05) )\n",
    "epsilon = 1e-9\n",
    "\n",
    "r_pos  = np.sqrt((X - d/2)**2 + Y**2)+epsilon\n",
    "r_neg = np.sqrt((X + d/2)**2 + Y**2)+epsilon\n",
    "\n",
    "Ex = (X - 0.25)/r_pos**2 - (X + 0.25)/r_neg**2\n",
    "Ey = Y/r_pos**2 - Y/r_neg**2\n",
    "\n",
    "fig, (ax1,ax2) = plt.subplots(1,2,figsize = (15,5))\n",
    "\n",
    "ax1.streamplot(X,Y,Ex,Ey)\n",
    "ax1.set_title('streamplot')\n",
    "\n",
    "ax2.quiver(X,Y,Ex,Ey,scale=500)\n",
    "ax2.set_title('quiver')\n"
   ]
  }
 ],
 "metadata": {
  "kernelspec": {
   "display_name": "Python 3 (ipykernel)",
   "language": "python",
   "name": "python3"
  },
  "language_info": {
   "codemirror_mode": {
    "name": "ipython",
    "version": 3
   },
   "file_extension": ".py",
   "mimetype": "text/x-python",
   "name": "python",
   "nbconvert_exporter": "python",
   "pygments_lexer": "ipython3",
   "version": "3.12.3"
  }
 },
 "nbformat": 4,
 "nbformat_minor": 5
}
