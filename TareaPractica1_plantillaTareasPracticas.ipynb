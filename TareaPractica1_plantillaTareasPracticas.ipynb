{
 "cells": [
  {
   "cell_type": "markdown",
   "metadata": {},
   "source": [
    "<h1 align=\"center\">Física Computacional.</h1>\n",
    "<h1 align=\"center\">Semestre 2015-2</h1>\n",
    "\n",
    "<h2>Sergio A. Alcalá Corona </h2> \n",
    "\n",
    "---\n",
    "### Rodrigo Vega Vilchis\n",
    "### Daniel Rojo Mata\n",
    "---"
   ]
  },
  {
   "cell_type": "markdown",
   "metadata": {},
   "source": [
    "<h1 align=\"center\">Programación para la física computacional</h1> \n",
    "\n",
    "## Práctica 1.  Programación básica\n",
    "\n",
    "\n",
    "### Programación básica para la física\n",
    "### Alumno: Rivas Rodriguez Luis Enrique\n",
    "---"
   ]
  },
  {
   "cell_type": "markdown",
   "metadata": {},
   "source": [
    "### **EJERCICIOS**:\n",
    "\n",
    "$\\;$\n",
    "\n",
    "#### **1. Altitud de un satélite**: se va a lanzar un satélite en una órbita circular alrededor de la Tierra de modo que orbite el planeta una vez cada $T$ segundos."
   ]
  },
  {
   "cell_type": "markdown",
   "metadata": {},
   "source": [
    "#### **(a)** Demuestre que la altitud $h$ sobre la superficie de la Tierra que debe tener el satélite es:\n",
    "\n",
    "<h3 align=\"center\">$h = \\biggl( {GMT^2\\over4\\pi^2} \\biggr)^{1/3} - R$,</h3> \n",
    "\n",
    "donde $G = 6,67 × 10^{−11} m^3 kg^{−1}s^{−2}$ es la constante gravitatoria de Newton, $M = 5,97 ×\n",
    "1024 kg$ es la masa de la Tierra, y $R = 6371 km$ es su radio.\n",
    "\n",
    "\n"
   ]
  },
  {
   "cell_type": "markdown",
   "metadata": {},
   "source": [
    "Para que un satélite se mantenga en un órbita circular debemos considerar que las fuerzas centrípeta debe ser igual a la fuerza gravitacional que lo mantiene cerca del planeta entonces tenemos que\n",
    "$F_c=F_g$\n",
    "\n",
    "\n",
    "Entonces usando la fórmula gravitacional de Newton donde\n",
    "$F_g= \\frac{G \\cdot m_1 \\cdot m_2}{r^2} $\n",
    "y la de la fuerza centrípeta $\\frac{mv^2}{r}$ por lo tanto obtenemos las siguientes igualdad\n",
    "\n",
    "$F_g= \\frac{G \\cdot M \\cdot m}{r^2} = \\frac{mv^2}{r}$\n",
    "\n",
    "Para le caso de un satélite que orbita fuera de la tierra debemos tomar en cuenta a r como $r=R+h$ con R el radio del planeta y h la altura que alcanza el satélite, además consideremos que $v=\\frac{d}{T}$ donde d es la distancia por vuelta completa al planeta, considerando un movimiento circular podemos expresar $v=\\frac{2\\pi (R+h)}{T}$ entonces podemos sustituir esta expresión y despejar de la siguiente manera\n",
    "\n",
    "\n",
    " $\\frac{GM}{(R+h)^2}=\\frac{mv^2}{R+h}$ $\\implies$ $\\frac{GM}{R+h}=v^2=\\left(\\frac{2\\pi (R+h)}{T}\\right)^2=\\frac{4\\pi^2(R+h)^2}{T^2}\\implies GMT^2=4\\pi^2 (R+h)^3\\implies (R+h)^3=\\frac{GMT^2}{4\\pi^2}\\implies R+h=\\left(\\frac{GMT^2}{4\\pi^2}\\right)^{\\frac{1}{3}}\\implies h=\\left(\\frac{GMT^2}{4\\pi^2}\\right)^{\\frac{1}{3}}-R$\n",
    " \n",
    " Obteniendo así la expresión esperada.\n"
   ]
  },
  {
   "cell_type": "markdown",
   "metadata": {},
   "source": [
    "#### **(b)** Escribe un programa que le pida al usuario que ingrese el valor deseado de $T$ y luego calcule e imprima la altura correcta en metros.\n"
   ]
  },
  {
   "cell_type": "code",
   "execution_count": 24,
   "metadata": {},
   "outputs": [],
   "source": [
    "import numpy as np\n",
    "import math as mt\n",
    "import pandas as pd\n"
   ]
  },
  {
   "cell_type": "code",
   "execution_count": 26,
   "metadata": {},
   "outputs": [
    {
     "name": "stdin",
     "output_type": "stream",
     "text": [
      "Ingresa el tiempo T en segundo que le toma al satélite para orbitar el planeta: 1000000\n"
     ]
    },
    {
     "name": "stdout",
     "output_type": "stream",
     "text": [
      "Usando la fórmula de la altitud de un satélite se puede determinar dicha altitud con el valor dado\n",
      "Dado el tiempo T proporcionado la altitud del satélite será 209691871.08 metros\n"
     ]
    }
   ],
   "source": [
    "T=int(input(\"Ingresa el tiempo T en segundo que le toma al satélite para orbitar el planeta:\"))\n",
    "print(\"Usando la fórmula de la altitud de un satélite se puede determinar dicha altitud con el valor dado\")\n",
    "G=6.67e-11\n",
    "M=5.97e24\n",
    "R=6.371e6\n",
    "h=((G*M*T**2)/(4 *mt.pi**2))**(1/3)-R\n",
    "redondeo=round(h,2)\n",
    "print(\"Dado el tiempo T proporcionado la altitud del satélite será\", redondeo, \"metros\")"
   ]
  },
  {
   "cell_type": "markdown",
   "metadata": {},
   "source": [
    "#### **(c)** Utiliza tu programa para calcular las altitudes de los satélites que orbitan la Tierra una vez al día (la llamada *órbita \"geosincrónica\"*), una vez cada **90 minutos** y una vez cada **45 minutos**. \n",
    "#### ¿Qué concluyes del último de estos cálculos?"
   ]
  },
  {
   "cell_type": "code",
   "execution_count": 22,
   "metadata": {},
   "outputs": [
    {
     "name": "stdout",
     "output_type": "stream",
     "text": [
      "Dado el tiempo T proporcionado la altitud del satélite será 279321.63 metros\n"
     ]
    }
   ],
   "source": [
    "Tm=90\n",
    "ts=Tm*60\n",
    "G=6.67e-11\n",
    "M=5.97e24\n",
    "R=6.371e6\n",
    "h=((G*M*ts**2)/(4 *mt.pi**2))**(1/3)-R\n",
    "redondeo=round(h,2)\n",
    "print(\"Dado el tiempo T proporcionado la altitud del satélite será\", redondeo, \"metros\")"
   ]
  },
  {
   "cell_type": "code",
   "execution_count": 23,
   "metadata": {},
   "outputs": [
    {
     "name": "stdout",
     "output_type": "stream",
     "text": [
      "Dado el tiempo T proporcionado la altitud del satélite será -2181559.9 metros\n"
     ]
    }
   ],
   "source": [
    "Tm=45\n",
    "ts=Tm*60\n",
    "G=6.67e-11\n",
    "M=5.97e24\n",
    "R=6.371e6\n",
    "h=((G*M*ts**2)/(4 *mt.pi**2))**(1/3)-R\n",
    "redondeo=round(h,2)\n",
    "print(\"Dado el tiempo T proporcionado la altitud del satélite será\", redondeo, \"metros\")"
   ]
  },
  {
   "cell_type": "markdown",
   "metadata": {},
   "source": [
    "Como se observa en los resultados a una cierta cantidad de tiempo los resultados se vuelven negativos indicando que existe un mínimo de tiempo de órbita que está estrechamente relacionado con la altitud de dichos satélites, que al bajar de éste mínimo da resultados irreales o que indican que es físicamente imposible mantener un satélite en órbita, entonces, podemos concluir que los valores del tiempo de órbita y altitud son dependientes entre sí."
   ]
  },
  {
   "cell_type": "markdown",
   "metadata": {},
   "source": [
    "#### **2. Relatividad especial:** Una nave espacial viaja desde la Tierra en línea recta a una velocidad relativista $v$ a otro planeta a $x$ años luz de distancia. \n",
    "\n",
    "#### Escribe un programa que le pida al usuario el valor de $x$ y la velocidad $v$ como una fracción de la velocidad de la luz $c$, y que imprima el tiempo en años que tarda la nave espacial en llegar a su destino\n",
    "\n",
    "#### **(a)** en el marco de reposo de un observador en la Tierra y"
   ]
  },
  {
   "cell_type": "markdown",
   "metadata": {},
   "source": [
    "#### **(b)** como lo percibiría un pasajero a bordo de la nave. "
   ]
  },
  {
   "cell_type": "code",
   "execution_count": 16,
   "metadata": {},
   "outputs": [
    {
     "name": "stdin",
     "output_type": "stream",
     "text": [
      "Ingresa la distancia a recorrer en años luz: 95\n",
      "Ingresa la velocidad expresada como una fracción de la velopcidad de la luz (c) 0.74\n"
     ]
    },
    {
     "name": "stdout",
     "output_type": "stream",
     "text": [
      "a) Para un observador en la tierra la nave llega en 128.38 años\n",
      "b) Mientras para la nave el viaje será de 86.35 años\n"
     ]
    }
   ],
   "source": [
    "import numpy as np\n",
    "import math as mt\n",
    "c=3e8\n",
    "x=float(input(\"Ingresa la distancia a recorrer en años luz:\"))\n",
    "v=float(input(\"Ingresa la velocidad expresada como una fracción de la velopcidad de la luz (c)\"))\n",
    "t_tierra=x/v\n",
    "redondeot=round(t_tierra,2)\n",
    "print(\"a) Para un observador en la tierra la nave llega en\", redondeot, \"años\")\n",
    "gamma=1/mt.sqrt(1-v**2)\n",
    "t_nave=redondeot/gamma\n",
    "redondeon=round(t_nave,2)\n",
    "print(\"b) Mientras para la nave el viaje será de\",redondeon,\"años\")"
   ]
  },
  {
   "cell_type": "code",
   "execution_count": null,
   "metadata": {},
   "outputs": [],
   "source": []
  },
  {
   "cell_type": "markdown",
   "metadata": {},
   "source": [
    "#### Usa tu programa para calcular las respuestas para un planeta a 10 años luz de distancia con $v = 0.99c$"
   ]
  },
  {
   "cell_type": "code",
   "execution_count": 17,
   "metadata": {},
   "outputs": [
    {
     "name": "stdin",
     "output_type": "stream",
     "text": [
      "Ingresa la distancia a recorrer en años luz: 10\n",
      "Ingresa la velocidad expresada como una fracción de la velopcidad de la luz (c) 0.99\n"
     ]
    },
    {
     "name": "stdout",
     "output_type": "stream",
     "text": [
      "Para un observador en la tierra la nave llega en 10.1 años\n",
      "Mientras para la nave el viaje será de 1.42 años\n"
     ]
    }
   ],
   "source": [
    "import numpy as np\n",
    "import math as mt\n",
    "c=3e8\n",
    "x=float(input(\"Ingresa la distancia a recorrer en años luz:\"))\n",
    "v=float(input(\"Ingresa la velocidad expresada como una fracción de la velopcidad de la luz (c)\"))\n",
    "t_tierra=x/v\n",
    "redondeot=round(t_tierra,2)\n",
    "print(\"Para un observador en la tierra la nave llega en\", redondeot, \"años\")\n",
    "gamma=1/mt.sqrt(1-v**2)\n",
    "t_nave=redondeot/gamma\n",
    "redondeon=round(t_nave,2)\n",
    "print(\"Mientras para la nave el viaje será de\",redondeon,\"años\")"
   ]
  },
  {
   "cell_type": "markdown",
   "metadata": {},
   "source": [
    "#### **3. Órbitas planetarias**: En el espacio, la órbita de un cuerpo alrededor de otro (como un planeta alrededor del Sol), no necesariamente es circular. En general, toma la forma de una elipse, con el cuerpo a veces más cerca y otras más lejos. Si tenemos la distancia $\\ell_1$ de máxima aproximación de un planeta al Sol (su \\textit{perihelio}), y su velocidad lineal $v_1$ en el perihelio, entonces cualquier otra propiedad de la órbita se puede calcular a partir de estas dos cantidades de la siguiente manera:\n",
    "\n",
    "#### **(a)** La segunda ley de Kepler nos dice que la distancia $\\ell_2$ y la velocidad $v_2$ del planeta en su punto más distante, o \\textit{afelio}, satisfacen que $\\ell_2 v_2 = \\ell_1 v_1$.  Al mismo tiempo, la energía total, cinética más la gravitatoria, de un planeta con velocidad $v$ y distancia $r$ del Sol está dada por:\n",
    "\n",
    "<h3 align=\"center\">$E = \\frac{1}{2} m v^2 - G {mM\\over r}$,</h3>\n",
    "       \n",
    "#### donde $m$ es la masa del planeta, $M=1.9891\\times10^{30}\\,$kg es la masa del Sol y $G=6.6738\\times10^{-11}\\,\\mathrm{m^3\\,kg^{-1}\\,s^{-2}}$ es la constante gravitatoria de Newton. Dado que la energía debe conservarse, demuestre que $v_2$ es la raíz más pequeña de la ecuación cuadrática:\n",
    "\n",
    "<h3 align=\"center\">$v_2^2 - {2GM\\over v_1\\ell_1} v_2 - \\biggl[ v_1^2 - {2GM\\over\\ell_1} \\biggr] = 0$.</h3>\n",
    "\n",
    "#### Una vez que tenemos $v_2$ podemos calcular $\\ell_2$  usando la relación $\\ell_2 = \\ell_1 v_1/v_2$.\n"
   ]
  },
  {
   "cell_type": "code",
   "execution_count": null,
   "metadata": {},
   "outputs": [],
   "source": []
  },
  {
   "cell_type": "code",
   "execution_count": null,
   "metadata": {},
   "outputs": [],
   "source": []
  },
  {
   "cell_type": "code",
   "execution_count": null,
   "metadata": {},
   "outputs": [],
   "source": []
  },
  {
   "cell_type": "markdown",
   "metadata": {},
   "source": [
    "#### **(b)**  Dados los valores de $v_1$, $\\ell_1$, y $\\ell_2$; otros parámetros de la órbita se obtienen mediante fórmulas simples que pueden derivarse de las leyes de Kepler y del hecho de que la órbita es una elipse:\n",
    "\n",
    "<h4 align=\"center\"><b>Semieje mayor</b>: $\\; \\; \\; a = \\frac{1}{2}(\\ell_1+\\ell_2),$</h3>\n",
    "\n",
    "<h4 align=\"center\"><b>Semieje menor</b>: $\\; \\; b = \\sqrt{\\ell_1\\ell_2},$</h3>\n",
    "\n",
    "<h4 align=\"center\"><b>Período orbital</b>: $\\; \\; T = {2\\pi ab\\over\\ell_1 v_1},$</h3>\n",
    "\n",
    "<h4 align=\"center\"><b>Excentricidad orbital</b>: $\\; \\; e = {\\ell_2-\\ell_1\\over\\ell_2+\\ell_1},$</h3>\n",
    "\n",
    "#### Escribe un programa que le pida al usuario que ingrese la distancia al Sol y la velocidad en el perihelio; para que calcule e imprima las cantidades $\\ell_2$, $v_2$, $T$ y $e$.\n"
   ]
  },
  {
   "cell_type": "code",
   "execution_count": 44,
   "metadata": {},
   "outputs": [
    {
     "name": "stdin",
     "output_type": "stream",
     "text": [
      "Ingrese el valor de la velocidad en el perihelio v1 30290\n",
      "Ingrese el valor de la distancia en le perihelio l1 1.471e11\n"
     ]
    },
    {
     "name": "stdout",
     "output_type": "stream",
     "text": [
      "El valor de la velocidad en el afelio = 29297.965326790112\n",
      "La distancia en su afelio l2 = 152080833952.17\n",
      "El periodo orbital T = 31551155.87\n",
      "O bien es T = 365.18 días\n",
      "La excentricidad e = 0.01665\n"
     ]
    }
   ],
   "source": [
    "import math as mt\n",
    "v1=float(input(\"Ingrese el valor de la velocidad en el perihelio v1\"))\n",
    "l1=float(input(\"Ingrese el valor de la distancia en le perihelio l1\"))\n",
    "G = 6.6743e-11\n",
    "M = 1.989e30  \n",
    "A = 1\n",
    "B = - (2 * G * M) / (v1 * l1)\n",
    "C = - (v1**2 - (2 * G * M / l1))\n",
    "discriminante = B**2 - 4 * A * C\n",
    "if discriminante < 0:\n",
    "    print(\"El discriminante es negativo, el cálculo es inválido\")\n",
    "else:\n",
    "    v2 = (-B - mt.sqrt(discriminante)) / (2 * A)\n",
    "print(\"El valor de la velocidad en el afelio =\", v2)\n",
    "l2=(l1*v1)/v2\n",
    "a=(1/2)*(l1+l2)\n",
    "b=mt.sqrt(l1*l2)\n",
    "if b<0:\n",
    "    print(\"La expresión es negativa, la raíz es inválida\")\n",
    "else:\n",
    "    T=(2*mt.pi*a*b)/(l1*v1)\n",
    "e=(l2-l1)/(l2+l1)\n",
    "print(f\"La distancia en su afelio l2 = {l2:.2f}\")\n",
    "print(f\"El periodo orbital T = {T:.2f}\")\n",
    "T_dias = T / (60*60*24)\n",
    "print(f\"O bien es T = {T_dias:.2f} días\")\n",
    "print(f\"La excentricidad e = {e:.5f}\")\n"
   ]
  },
  {
   "cell_type": "markdown",
   "metadata": {},
   "source": [
    "#### **(c)** Prueba tu programa haciendo que calcule las propiedades de las órbitas de la Tierra (para las cuales $\\ell_1=1.4710\\times10^{11}\\,$m y $v_1=3.0287\\times10^4\\,\\mathrm{m\\,s^{-1}}$)  y del cometa Halley ($\\ell_1=8.7830\\times10^{10}\\,$m y $v_1=5.4529\\times10^4\\,\\mathrm{m\\,s^{-1}}$). Entre otras cosas, deberías encontrar que el período orbital de la Tierra es de un año y el del cometa Halley es de unos 76 años."
   ]
  },
  {
   "cell_type": "code",
   "execution_count": 43,
   "metadata": {},
   "outputs": [
    {
     "name": "stdout",
     "output_type": "stream",
     "text": [
      "El valor de la velocidad en el afelio = 29306.87\n",
      "La distancia en su afelio l2 = 152019579575.61\n",
      "El periodo orbital T = 31541466.67\n",
      "O bien es T = 365.06 días\n",
      "La excentricidad e = 0.01645\n"
     ]
    }
   ],
   "source": [
    "##Para la tierra\n",
    "import math as mt\n",
    "v1=3.0287e4\n",
    "l1=1.4710e11\n",
    "G = 6.6743e-11\n",
    "M = 1.989e30  \n",
    "A = 1\n",
    "B = - (2 * G * M) / (v1 * l1)\n",
    "C = - (v1**2 - (2 * G * M / l1))\n",
    "discriminante = B**2 - 4 * A * C\n",
    "if discriminante < 0:\n",
    "    print(\"El discriminante es negativo, el cálculo es inválido\")\n",
    "else:\n",
    "    v2 = (-B - mt.sqrt(discriminante)) / (2 * A)\n",
    "print(f\"El valor de la velocidad en el afelio = {v2:.2f}\")\n",
    "l2=(l1*v1)/v2\n",
    "a=(1/2)*(l1+l2)\n",
    "b=mt.sqrt(l1*l2)\n",
    "if b<0:\n",
    "    print(\"La expresión es negativa, la raíz es inválida\")\n",
    "else:\n",
    "    T=(2*mt.pi*a*b)/(l1*v1)\n",
    "e=(l2-l1)/(l2+l1)\n",
    "print(f\"La distancia en su afelio l2 = {l2:.2f}\")\n",
    "print(f\"El periodo orbital T = {T:.2f}\")\n",
    "T_dias = T / (60*60*24)\n",
    "print(f\"O bien es T = {T_dias:.2f} días\")\n",
    "print(f\"La excentricidad e = {e:.5f}\")\n"
   ]
  },
  {
   "cell_type": "code",
   "execution_count": 45,
   "metadata": {},
   "outputs": [
    {
     "name": "stdout",
     "output_type": "stream",
     "text": [
      "El valor de la velocidad en el afelio = 908.05\n",
      "La distancia en su afelio l2 = 5274268185967.95\n",
      "El periodo orbital T = 2393959311.21\n",
      "O bien es T = 27707.86 días\n",
      "La excentricidad e = 0.96724\n"
     ]
    }
   ],
   "source": [
    "##Para el cometa\n",
    "import math as mt\n",
    "v1=5.4529e4\n",
    "l1=8.7830e10\n",
    "G = 6.6743e-11\n",
    "M = 1.989e30  \n",
    "A = 1\n",
    "B = - (2 * G * M) / (v1 * l1)\n",
    "C = - (v1**2 - (2 * G * M / l1))\n",
    "discriminante = B**2 - 4 * A * C\n",
    "if discriminante < 0:\n",
    "    print(\"El discriminante es negativo, el cálculo es inválido\")\n",
    "else:\n",
    "    v2 = (-B - mt.sqrt(discriminante)) / (2 * A)\n",
    "print(f\"El valor de la velocidad en el afelio = {v2:.2f}\")\n",
    "l2=(l1*v1)/v2\n",
    "a=(1/2)*(l1+l2)\n",
    "b=mt.sqrt(l1*l2)\n",
    "if b<0:\n",
    "    print(\"La expresión es negativa, la raíz es inválida\")\n",
    "else:\n",
    "    T=(2*mt.pi*a*b)/(l1*v1)\n",
    "e=(l2-l1)/(l2+l1)\n",
    "print(f\"La distancia en su afelio l2 = {l2:.2f}\")\n",
    "print(f\"El periodo orbital T = {T:.2f}\")\n",
    "T_dias = T / (60*60*24)\n",
    "print(f\"O bien es T = {T_dias:.2f} días\")\n",
    "print(f\"La excentricidad e = {e:.5f}\")\n"
   ]
  },
  {
   "cell_type": "markdown",
   "metadata": {},
   "source": [
    "### **4.La fórmula semiempírica de la masa (FSM)**: En física nuclear, la fórmula de Weizsäcker (conocida tambien como fórmula semiempírica) sirve para evaluar la masa y otras propiedades de un nucleo atómico; y está basada parcialmente en mediciones empíricas.\n",
    "\n",
    "### En particular la fórmula se usa para calcular la energía de enlace nuclear aproximada  B, de un nucleo atómico con número atómico Z y número de masa A:\n",
    "\n",
    "$B = a_1 A - a_2 A^{2/3} - a_3 \\frac{Z^2}{A^{1/3}} - a_4 \\frac{(A - 2Z)^2}{A} + \\frac{a_5}{A^{1/2}}$\n",
    "\n",
    "donde, en unidades de millones de electrón-volts:\n",
    "\n",
    "\n",
    "\n",
    "$a_1 = 15.8, \\quad a_2 = 18.3, \\quad a_3 = 0.714, \\quad a_4 = 23.2,$\n",
    "\n",
    "\n",
    "\n",
    "y\n",
    "\n",
    "\n",
    "\n",
    "$a_5 =  \\begin{cases} \n",
    "0 & \\text{si } A \\text{ es impar}, \\\\\n",
    "12.0 & \\text{si } A \\text{ y } Z \\text{ son pares (ambos)}, \\\\\n",
    "-12.0 & \\text{si } A \\text{ es par y } Z \\text{ impar}.\n",
    "\\end{cases}$\n"
   ]
  },
  {
   "cell_type": "markdown",
   "metadata": {},
   "source": [
    "\n",
    "### a) Escribe un programa que tome como entrada los valores de \\( A \\) y \\( Z \\), e imprima la energía de enlace \\( B \\) para el átomo correspondiente. Usa tu programa para encontrar la energía de enlace de un átomo con \\( A = 58 \\) y \\( Z = 28 \\). (Hint: La respuesta correcta es alrededor de los 490 MeV)."
   ]
  },
  {
   "cell_type": "code",
   "execution_count": 9,
   "metadata": {},
   "outputs": [
    {
     "name": "stdin",
     "output_type": "stream",
     "text": [
      "Ingrese el valor de masa A del átomo: 58\n",
      "Ingrese el número atómico de del elemento: 28\n"
     ]
    },
    {
     "name": "stdout",
     "output_type": "stream",
     "text": [
      "La energía de enlace del átomo con A y Z proporcionados es: 497.56 MeV\n"
     ]
    }
   ],
   "source": [
    "A=float(input(\"Ingrese el valor de masa A del átomo:\"))\n",
    "Z=float(input(\"Ingrese el número atómico de del elemento:\"))\n",
    "a1=15.8\n",
    "a2=18.3\n",
    "a3=0.714\n",
    "a4=23.2\n",
    "if A % 2 == 1:  # A impar\n",
    "    a5 = 0\n",
    "elif A % 2 == 0 and Z % 2 == 0:  # Ambos pares\n",
    "    a5 = 12.0\n",
    "elif A % 2 == 0 and Z % 2 == 1:  # A par y Z impar\n",
    "    a5 = -12.0\n",
    "B=a1*A-a2*A**(2/3)-a3*Z**2/A**(1/3)-a4*((A-2*Z)**2/A)+a5/A**(1/2)\n",
    "print(f\"La energía de enlace del átomo con A y Z proporcionados es: {B:.2f} MeV\")"
   ]
  },
  {
   "cell_type": "markdown",
   "metadata": {},
   "source": [
    "### b) Modifica el programa del inciso anterior, para escribir una segunda versión que imprima no la energía de enlace total \\( B \\), sino la energía de unión por nucleón, que es \\( B / A \\).\n",
    "    "
   ]
  },
  {
   "cell_type": "code",
   "execution_count": 12,
   "metadata": {},
   "outputs": [
    {
     "name": "stdin",
     "output_type": "stream",
     "text": [
      "Ingrese el valor de masa A del átomo: 58\n",
      "Ingrese el número atómico de del elemento: 28\n"
     ]
    },
    {
     "name": "stdout",
     "output_type": "stream",
     "text": [
      "La energía de enlace del átomo con A y Z proporcionados es: 497.56 MeV\n",
      "La energía de unión por nucleón dado B y A es 8.58 MeV\n"
     ]
    }
   ],
   "source": [
    "A=float(input(\"Ingrese el valor de masa A del átomo:\"))\n",
    "Z=float(input(\"Ingrese el número atómico de del elemento:\"))\n",
    "a1=15.8\n",
    "a2=18.3\n",
    "a3=0.714\n",
    "a4=23.2\n",
    "if A % 2 == 1:  # A impar\n",
    "    a5 = 0\n",
    "elif A % 2 == 0 and Z % 2 == 0:  # Ambos pares\n",
    "    a5 = 12.0\n",
    "elif A % 2 == 0 and Z % 2 == 1:  # A par y Z impar\n",
    "    a5 = -12.0\n",
    "B=a1*A-a2*A**(2/3)-a3*Z**2/A**(1/3)-a4*((A-2*Z)**2/A)+a5/A**(1/2)\n",
    "print(f\"La energía de enlace del átomo con A y Z proporcionados es: {B:.2f} MeV\")\n",
    "EpN=B/A\n",
    "print(f\"La energía de unión por nucleón dado B y A es {EpN:.2f} MeV\")"
   ]
  },
  {
   "cell_type": "markdown",
   "metadata": {},
   "source": [
    "### c) Escribe una tercera version del programa para que tome como entrada solo un valor del número atómico Z y luego pase por todos los valores de A desde A = Z hasta A = 3Z, para encontrar el que tiene la mayor energ ́ıa de enlace por nucleon. Este es el nucleo más estable con el número atómico dado. Haz que tu programa imprima el valor de A para este nucleo más estable y el valor de la energía de enlace por nucleon."
   ]
  },
  {
   "cell_type": "code",
   "execution_count": 35,
   "metadata": {},
   "outputs": [
    {
     "name": "stdin",
     "output_type": "stream",
     "text": [
      "Ingrese el número atómico de del elemento: 28\n"
     ]
    },
    {
     "name": "stdout",
     "output_type": "stream",
     "text": [
      "\n",
      "El núcleo más estable para Z = 28 es A = 62\n",
      "Energía de enlace por nucleón: 8.70 MeV\n"
     ]
    }
   ],
   "source": [
    "Z=int(input(\"Ingrese el número atómico de del elemento:\"))\n",
    "a1=15.8\n",
    "a2=18.3\n",
    "a3=0.714\n",
    "a4=23.2\n",
    "Mejor_A=Z\n",
    "Mejor_EnergiaN=0\n",
    "def EnergiaEnlace(A,Z):\n",
    "\n",
    "    a1=15.8\n",
    "    a2=18.3\n",
    "    a3=0.714\n",
    "    a4=23.2\n",
    "    if A % 2 == 1:  # A impar\n",
    "        a5 = 0\n",
    "    elif A % 2 == 0 and Z % 2 == 0:  # Ambos pares\n",
    "        a5 = 12.0\n",
    "    elif A % 2 == 0 and Z % 2 == 1:  # A par y Z impar\n",
    "        a5 = -12.0\n",
    "    B=a1*A-a2*A**(2/3)-a3*Z**2/A**(1/3)-a4*((A-2*Z)**2/A)+a5/A**(1/2)\n",
    "    return B\n",
    "for A in range(Z,3*Z+1):\n",
    "    B=EnergiaEnlace(A,Z)\n",
    "    EnergiaNucleon=B/A\n",
    "    if EnergiaNucleon > Mejor_EnergiaN:\n",
    "        Mejor_EnergiaN=EnergiaNucleon\n",
    "        Mejor_A=A\n",
    "print(f\"\\nEl núcleo más estable para Z = {Z} es A = {Mejor_A}\")\n",
    "print(f\"Energía de enlace por nucleón: {Mejor_EnergiaN:.2f} MeV\")"
   ]
  },
  {
   "cell_type": "markdown",
   "metadata": {},
   "source": [
    "### d) Finalmente, escribe una cuarta version del programa que, en lugar de tomar  ́ Z como entrada, se ejecute a traves de todos los valores de  ́ Z de 1 a 100 e imprima el valor mas estable de  ́ A para cada uno. ¿A que valor de  ́ Z se produce la energ ́ıa de enlace maxima por nucle  ́ on? (La respuesta correcta, en la vida real, es  ́ Z = 28, que corresponde al N ́ıquel)."
   ]
  },
  {
   "cell_type": "code",
   "execution_count": 31,
   "metadata": {},
   "outputs": [
    {
     "name": "stdout",
     "output_type": "stream",
     "text": [
      "Z =   1 | Mejor A =   3 | Energía por nucleón = 0.37 MeV\n",
      "Z =   2 | Mejor A =   4 | Energía por nucleón = 5.32 MeV\n",
      "Z =   3 | Mejor A =   7 | Energía por nucleón = 5.28 MeV\n",
      "Z =   4 | Mejor A =   8 | Energía por nucleón = 6.47 MeV\n",
      "Z =   5 | Mejor A =  11 | Energía por nucleón = 6.65 MeV\n",
      "Z =   6 | Mejor A =  14 | Energía por nucleón = 7.20 MeV\n",
      "Z =   7 | Mejor A =  15 | Energía por nucleón = 7.33 MeV\n",
      "Z =   8 | Mejor A =  18 | Energía por nucleón = 7.72 MeV\n",
      "Z =   9 | Mejor A =  19 | Energía por nucleón = 7.74 MeV\n",
      "Z =  10 | Mejor A =  22 | Energía por nucleón = 8.04 MeV\n",
      "Z =  11 | Mejor A =  25 | Energía por nucleón = 8.03 MeV\n",
      "Z =  12 | Mejor A =  26 | Energía por nucleón = 8.24 MeV\n",
      "Z =  13 | Mejor A =  29 | Energía por nucleón = 8.24 MeV\n",
      "Z =  14 | Mejor A =  30 | Energía por nucleón = 8.38 MeV\n",
      "Z =  15 | Mejor A =  33 | Energía por nucleón = 8.39 MeV\n",
      "Z =  16 | Mejor A =  36 | Energía por nucleón = 8.49 MeV\n",
      "Z =  17 | Mejor A =  37 | Energía por nucleón = 8.48 MeV\n",
      "Z =  18 | Mejor A =  40 | Energía por nucleón = 8.57 MeV\n",
      "Z =  19 | Mejor A =  43 | Energía por nucleón = 8.55 MeV\n",
      "Z =  20 | Mejor A =  44 | Energía por nucleón = 8.63 MeV\n",
      "Z =  21 | Mejor A =  47 | Energía por nucleón = 8.61 MeV\n",
      "Z =  22 | Mejor A =  48 | Energía por nucleón = 8.66 MeV\n",
      "Z =  23 | Mejor A =  51 | Energía por nucleón = 8.65 MeV\n",
      "Z =  24 | Mejor A =  54 | Energía por nucleón = 8.69 MeV\n",
      "Z =  25 | Mejor A =  55 | Energía por nucleón = 8.66 MeV\n",
      "Z =  26 | Mejor A =  58 | Energía por nucleón = 8.70 MeV\n",
      "Z =  27 | Mejor A =  61 | Energía por nucleón = 8.68 MeV\n",
      "Z =  28 | Mejor A =  62 | Energía por nucleón = 8.70 MeV\n",
      "Z =  29 | Mejor A =  65 | Energía por nucleón = 8.68 MeV\n",
      "Z =  30 | Mejor A =  68 | Energía por nucleón = 8.70 MeV\n",
      "Z =  31 | Mejor A =  69 | Energía por nucleón = 8.68 MeV\n",
      "Z =  32 | Mejor A =  72 | Energía por nucleón = 8.69 MeV\n",
      "Z =  33 | Mejor A =  75 | Energía por nucleón = 8.67 MeV\n",
      "Z =  34 | Mejor A =  76 | Energía por nucleón = 8.68 MeV\n",
      "Z =  35 | Mejor A =  79 | Energía por nucleón = 8.65 MeV\n",
      "Z =  36 | Mejor A =  82 | Energía por nucleón = 8.66 MeV\n",
      "Z =  37 | Mejor A =  85 | Energía por nucleón = 8.63 MeV\n",
      "Z =  38 | Mejor A =  86 | Energía por nucleón = 8.64 MeV\n",
      "Z =  39 | Mejor A =  89 | Energía por nucleón = 8.61 MeV\n",
      "Z =  40 | Mejor A =  92 | Energía por nucleón = 8.61 MeV\n",
      "Z =  41 | Mejor A =  93 | Energía por nucleón = 8.59 MeV\n",
      "Z =  42 | Mejor A =  96 | Energía por nucleón = 8.59 MeV\n",
      "Z =  43 | Mejor A =  99 | Energía por nucleón = 8.56 MeV\n",
      "Z =  44 | Mejor A = 102 | Energía por nucleón = 8.56 MeV\n",
      "Z =  45 | Mejor A = 103 | Energía por nucleón = 8.53 MeV\n",
      "Z =  46 | Mejor A = 106 | Energía por nucleón = 8.53 MeV\n",
      "Z =  47 | Mejor A = 109 | Energía por nucleón = 8.50 MeV\n",
      "Z =  48 | Mejor A = 110 | Energía por nucleón = 8.49 MeV\n",
      "Z =  49 | Mejor A = 113 | Energía por nucleón = 8.47 MeV\n",
      "Z =  50 | Mejor A = 116 | Energía por nucleón = 8.46 MeV\n",
      "Z =  51 | Mejor A = 119 | Energía por nucleón = 8.43 MeV\n",
      "Z =  52 | Mejor A = 120 | Energía por nucleón = 8.42 MeV\n",
      "Z =  53 | Mejor A = 123 | Energía por nucleón = 8.40 MeV\n",
      "Z =  54 | Mejor A = 126 | Energía por nucleón = 8.39 MeV\n",
      "Z =  55 | Mejor A = 129 | Energía por nucleón = 8.36 MeV\n",
      "Z =  56 | Mejor A = 130 | Energía por nucleón = 8.35 MeV\n",
      "Z =  57 | Mejor A = 133 | Energía por nucleón = 8.32 MeV\n",
      "Z =  58 | Mejor A = 136 | Energía por nucleón = 8.31 MeV\n",
      "Z =  59 | Mejor A = 139 | Energía por nucleón = 8.29 MeV\n",
      "Z =  60 | Mejor A = 140 | Energía por nucleón = 8.27 MeV\n",
      "Z =  61 | Mejor A = 143 | Energía por nucleón = 8.25 MeV\n",
      "Z =  62 | Mejor A = 146 | Energía por nucleón = 8.23 MeV\n",
      "Z =  63 | Mejor A = 149 | Energía por nucleón = 8.21 MeV\n",
      "Z =  64 | Mejor A = 150 | Energía por nucleón = 8.19 MeV\n",
      "Z =  65 | Mejor A = 153 | Energía por nucleón = 8.17 MeV\n",
      "Z =  66 | Mejor A = 156 | Energía por nucleón = 8.15 MeV\n",
      "Z =  67 | Mejor A = 159 | Energía por nucleón = 8.13 MeV\n",
      "Z =  68 | Mejor A = 162 | Energía por nucleón = 8.11 MeV\n",
      "Z =  69 | Mejor A = 163 | Energía por nucleón = 8.09 MeV\n",
      "Z =  70 | Mejor A = 166 | Energía por nucleón = 8.07 MeV\n",
      "Z =  71 | Mejor A = 169 | Energía por nucleón = 8.05 MeV\n",
      "Z =  72 | Mejor A = 172 | Energía por nucleón = 8.03 MeV\n",
      "Z =  73 | Mejor A = 175 | Energía por nucleón = 8.00 MeV\n",
      "Z =  74 | Mejor A = 176 | Energía por nucleón = 7.99 MeV\n",
      "Z =  75 | Mejor A = 179 | Energía por nucleón = 7.96 MeV\n",
      "Z =  76 | Mejor A = 182 | Energía por nucleón = 7.95 MeV\n",
      "Z =  77 | Mejor A = 185 | Energía por nucleón = 7.92 MeV\n",
      "Z =  78 | Mejor A = 188 | Energía por nucleón = 7.90 MeV\n",
      "Z =  79 | Mejor A = 191 | Energía por nucleón = 7.88 MeV\n",
      "Z =  80 | Mejor A = 192 | Energía por nucleón = 7.86 MeV\n",
      "Z =  81 | Mejor A = 195 | Energía por nucleón = 7.84 MeV\n",
      "Z =  82 | Mejor A = 198 | Energía por nucleón = 7.82 MeV\n",
      "Z =  83 | Mejor A = 201 | Energía por nucleón = 7.79 MeV\n",
      "Z =  84 | Mejor A = 204 | Energía por nucleón = 7.78 MeV\n",
      "Z =  85 | Mejor A = 205 | Energía por nucleón = 7.75 MeV\n",
      "Z =  86 | Mejor A = 208 | Energía por nucleón = 7.74 MeV\n",
      "Z =  87 | Mejor A = 211 | Energía por nucleón = 7.71 MeV\n",
      "Z =  88 | Mejor A = 214 | Energía por nucleón = 7.69 MeV\n",
      "Z =  89 | Mejor A = 217 | Energía por nucleón = 7.67 MeV\n",
      "Z =  90 | Mejor A = 220 | Energía por nucleón = 7.65 MeV\n",
      "Z =  91 | Mejor A = 223 | Energía por nucleón = 7.63 MeV\n",
      "Z =  92 | Mejor A = 224 | Energía por nucleón = 7.61 MeV\n",
      "Z =  93 | Mejor A = 227 | Energía por nucleón = 7.58 MeV\n",
      "Z =  94 | Mejor A = 230 | Energía por nucleón = 7.57 MeV\n",
      "Z =  95 | Mejor A = 233 | Energía por nucleón = 7.54 MeV\n",
      "Z =  96 | Mejor A = 236 | Energía por nucleón = 7.52 MeV\n",
      "Z =  97 | Mejor A = 239 | Energía por nucleón = 7.50 MeV\n",
      "Z =  98 | Mejor A = 242 | Energía por nucleón = 7.48 MeV\n",
      "Z =  99 | Mejor A = 243 | Energía por nucleón = 7.46 MeV\n",
      "Z = 100 | Mejor A = 246 | Energía por nucleón = 7.44 MeV\n"
     ]
    }
   ],
   "source": [
    "a1=15.8\n",
    "a2=18.3\n",
    "a3=0.714\n",
    "a4=23.2\n",
    "def EnergiaEnlace(A,Z):\n",
    "\n",
    "    a1=15.8\n",
    "    a2=18.3\n",
    "    a3=0.714\n",
    "    a4=23.2\n",
    "    if A % 2 == 1:  # A impar\n",
    "        a5 = 0\n",
    "    elif A % 2 == 0 and Z % 2 == 0:  # Ambos pares\n",
    "        a5 = 12.0\n",
    "    elif A % 2 == 0 and Z % 2 == 1:  # A par y Z impar\n",
    "        a5 = -12.0\n",
    "    B=a1*A-a2*A**(2/3)-a3*Z**2/A**(1/3)-a4*((A-2*Z)**2/A)+a5/A**(1/2)\n",
    "    return B\n",
    "for Z in range (1, 101):\n",
    "    Mejor_A=Z\n",
    "    Mejor_EnergiaN=0\n",
    "    for A in range(Z,Z*3+1):\n",
    "        B=EnergiaEnlace(A,Z)\n",
    "        EnergiaNucleon=B/A\n",
    "        if EnergiaNucleon > Mejor_EnergiaN:\n",
    "            Mejor_EnergiaN=EnergiaNucleon\n",
    "            Mejor_A=A\n",
    "    print(f\"Z = {Z:3} | Mejor A = {Mejor_A:3} | Energía por nucleón = {Mejor_EnergiaN:.2f} MeV\")"
   ]
  }
 ],
 "metadata": {
  "@webio": {
   "lastCommId": null,
   "lastKernelId": null
  },
  "kernelspec": {
   "display_name": "Python 3 (ipykernel)",
   "language": "python",
   "name": "python3"
  },
  "language_info": {
   "codemirror_mode": {
    "name": "ipython",
    "version": 3
   },
   "file_extension": ".py",
   "mimetype": "text/x-python",
   "name": "python",
   "nbconvert_exporter": "python",
   "pygments_lexer": "ipython3",
   "version": "3.13.2"
  }
 },
 "nbformat": 4,
 "nbformat_minor": 4
}
