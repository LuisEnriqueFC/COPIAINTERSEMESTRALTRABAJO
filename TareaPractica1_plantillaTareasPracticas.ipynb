{
 "cells": [
  {
   "cell_type": "markdown",
   "metadata": {},
   "source": [
    "<h1 align=\"center\">Física Computacional.</h1>\n",
    "<h1 align=\"center\">Semestre 2015-2</h1>\n",
    "\n",
    "<h2>Sergio A. Alcalá Corona </h2> \n",
    "\n",
    "---\n",
    "### Rodrigo Vega Vilchis\n",
    "### Daniel Rojo Mata\n",
    "---"
   ]
  },
  {
   "cell_type": "markdown",
   "metadata": {},
   "source": [
    "<h1 align=\"center\">Programación para la física computacional</h1> \n",
    "\n",
    "## Práctica 1.  Programación básica\n",
    "\n",
    "\n",
    "### Programación básica para la física\n",
    "### Alumno: Rivas Rodriguez Luis Enrique\n",
    "---"
   ]
  },
  {
   "cell_type": "markdown",
   "metadata": {},
   "source": [
    "### **EJERCICIOS**:\n",
    "\n",
    "$\\;$\n",
    "\n",
    "#### **1. Altitud de un satélite**: se va a lanzar un satélite en una órbita circular alrededor de la Tierra de modo que orbite el planeta una vez cada $T$ segundos."
   ]
  },
  {
   "cell_type": "markdown",
   "metadata": {},
   "source": [
    "#### **(a)** Demuestre que la altitud $h$ sobre la superficie de la Tierra que debe tener el satélite es:\n",
    "\n",
    "<h3 align=\"center\">$h = \\biggl( {GMT^2\\over4\\pi^2} \\biggr)^{1/3} - R$,</h3> \n",
    "\n",
    "donde $G = 6,67 × 10^{−11} m^3 kg^{−1}s^{−2}$ es la constante gravitatoria de Newton, $M = 5,97 ×\n",
    "1024 kg$ es la masa de la Tierra, y $R = 6371 km$ es su radio.\n",
    "\n",
    "\n"
   ]
  },
  {
   "cell_type": "markdown",
   "metadata": {},
   "source": [
    "Para que un satélite se mantenga en un órbita circular debemos considerar que las fuerzas centrípeta debe ser igual a la fuerza gravitacional que lo mantiene cerca del planeta entonces tenemos que\n",
    "$F_c=F_g$\n",
    "\n",
    "\n",
    "Entonces usando la fórmula gravitacional de Newton donde\n",
    "$F_g= \\frac{G \\cdot m_1 \\cdot m_2}{r^2} $\n",
    "y la de la fuerza centrípeta $\\frac{mv^2}{r}$ por lo tanto obtenemos las siguientes igualdad\n",
    "\n",
    "$F_g= \\frac{G \\cdot M \\cdot m}{r^2} = \\frac{mv^2}{r}$\n",
    "\n",
    "Para le caso de un satélite que orbita fuera de la tierra debemos tomar en cuenta a r como $r=R+h$ con R el radio del planeta y h la altura que alcanza el satélite, además consideremos que $v=\\frac{d}{T}$ donde d es la distancia por vuelta completa al planeta, considerando un movimiento circular podemos expresar $v=\\frac{2\\pi (R+h)}{T}$ entonces podemos sustituir esta expresión y despejar de la siguiente manera\n",
    "\n",
    "\n",
    " $\\frac{GM}{(R+h)^2}=\\frac{mv^2}{R+h}$ $\\implies$ $\\frac{GM}{R+h}=v^2=\\left(\\frac{2\\pi (R+h)}{T}\\right)^2=\\frac{4\\pi^2(R+h)^2}{T^2}\\implies GMT^2=4\\pi^2 (R+h)^3\\implies (R+h)^3=\\frac{GMT^2}{4\\pi^2}\\implies R+h=\\left(\\frac{GMT^2}{4\\pi^2}\\right)^{\\frac{1}{3}}\\implies h=\\left(\\frac{GMT^2}{4\\pi^2}\\right)^{\\frac{1}{3}}-R$\n",
    " \n",
    " Obteniendo así la expresión esperada.\n"
   ]
  },
  {
   "cell_type": "markdown",
   "metadata": {},
   "source": [
    "#### **(b)** Escribe un programa que le pida al usuario que ingrese el valor deseado de $T$ y luego calcule e imprima la altura correcta en metros.\n"
   ]
  },
  {
   "cell_type": "code",
   "execution_count": 24,
   "metadata": {},
   "outputs": [],
   "source": [
    "import numpy as np\n",
    "import math as mt\n",
    "import pandas as pd\n"
   ]
  },
  {
   "cell_type": "code",
   "execution_count": 26,
   "metadata": {},
   "outputs": [
    {
     "name": "stdin",
     "output_type": "stream",
     "text": [
      "Ingresa el tiempo T en segundo que le toma al satélite para orbitar el planeta: 1000000\n"
     ]
    },
    {
     "name": "stdout",
     "output_type": "stream",
     "text": [
      "Usando la fórmula de la altitud de un satélite se puede determinar dicha altitud con el valor dado\n",
      "Dado el tiempo T proporcionado la altitud del satélite será 209691871.08 metros\n"
     ]
    }
   ],
   "source": [
    "T=int(input(\"Ingresa el tiempo T en segundo que le toma al satélite para orbitar el planeta:\"))\n",
    "print(\"Usando la fórmula de la altitud de un satélite se puede determinar dicha altitud con el valor dado\")\n",
    "G=6.67e-11\n",
    "M=5.97e24\n",
    "R=6.371e6\n",
    "h=((G*M*T**2)/(4 *mt.pi**2))**(1/3)-R\n",
    "redondeo=round(h,2)\n",
    "print(\"Dado el tiempo T proporcionado la altitud del satélite será\", redondeo, \"metros\")"
   ]
  },
  {
   "cell_type": "markdown",
   "metadata": {},
   "source": [
    "#### **(c)** Utiliza tu programa para calcular las altitudes de los satélites que orbitan la Tierra una vez al día (la llamada *órbita \"geosincrónica\"*), una vez cada **90 minutos** y una vez cada **45 minutos**. \n",
    "#### ¿Qué concluyes del último de estos cálculos?"
   ]
  },
  {
   "cell_type": "code",
   "execution_count": 22,
   "metadata": {},
   "outputs": [
    {
     "name": "stdout",
     "output_type": "stream",
     "text": [
      "Dado el tiempo T proporcionado la altitud del satélite será 279321.63 metros\n"
     ]
    }
   ],
   "source": [
    "Tm=90\n",
    "ts=Tm*60\n",
    "G=6.67e-11\n",
    "M=5.97e24\n",
    "R=6.371e6\n",
    "h=((G*M*ts**2)/(4 *mt.pi**2))**(1/3)-R\n",
    "redondeo=round(h,2)\n",
    "print(\"Dado el tiempo T proporcionado la altitud del satélite será\", redondeo, \"metros\")"
   ]
  },
  {
   "cell_type": "code",
   "execution_count": 23,
   "metadata": {},
   "outputs": [
    {
     "name": "stdout",
     "output_type": "stream",
     "text": [
      "Dado el tiempo T proporcionado la altitud del satélite será -2181559.9 metros\n"
     ]
    }
   ],
   "source": [
    "Tm=45\n",
    "ts=Tm*60\n",
    "G=6.67e-11\n",
    "M=5.97e24\n",
    "R=6.371e6\n",
    "h=((G*M*ts**2)/(4 *mt.pi**2))**(1/3)-R\n",
    "redondeo=round(h,2)\n",
    "print(\"Dado el tiempo T proporcionado la altitud del satélite será\", redondeo, \"metros\")"
   ]
  },
  {
   "cell_type": "markdown",
   "metadata": {},
   "source": [
    "Como se observa en los resultados a una cierta cantidad de tiempo los resultados se vuelven negativos indicando que existe un mínimo de tiempo de órbita que está estrechamente relacionado con la altitud de dichos satélites, que al bajar de éste mínimo da resultados irreales o que indican que es físicamente imposible mantener un satélite en órbita, entonces, podemos concluir que los valores del tiempo de órbita y altitud son dependientes entre sí."
   ]
  },
  {
   "cell_type": "markdown",
   "metadata": {},
   "source": [
    "#### **2. Relatividad especial:** Una nave espacial viaja desde la Tierra en línea recta a una velocidad relativista $v$ a otro planeta a $x$ años luz de distancia. \n",
    "\n",
    "#### Escribe un programa que le pida al usuario el valor de $x$ y la velocidad $v$ como una fracción de la velocidad de la luz $c$, y que imprima el tiempo en años que tarda la nave espacial en llegar a su destino\n",
    "\n",
    "#### **(a)** en el marco de reposo de un observador en la Tierra y"
   ]
  },
  {
   "cell_type": "markdown",
   "metadata": {},
   "source": [
    "#### **(b)** como lo percibiría un pasajero a bordo de la nave. "
   ]
  },
  {
   "cell_type": "code",
   "execution_count": 16,
   "metadata": {},
   "outputs": [
    {
     "name": "stdin",
     "output_type": "stream",
     "text": [
      "Ingresa la distancia a recorrer en años luz: 95\n",
      "Ingresa la velocidad expresada como una fracción de la velopcidad de la luz (c) 0.74\n"
     ]
    },
    {
     "name": "stdout",
     "output_type": "stream",
     "text": [
      "a) Para un observador en la tierra la nave llega en 128.38 años\n",
      "b) Mientras para la nave el viaje será de 86.35 años\n"
     ]
    }
   ],
   "source": [
    "import numpy as np\n",
    "import math as mt\n",
    "c=3e8\n",
    "x=float(input(\"Ingresa la distancia a recorrer en años luz:\"))\n",
    "v=float(input(\"Ingresa la velocidad expresada como una fracción de la velopcidad de la luz (c)\"))\n",
    "t_tierra=x/v\n",
    "redondeot=round(t_tierra,2)\n",
    "print(\"a) Para un observador en la tierra la nave llega en\", redondeot, \"años\")\n",
    "gamma=1/mt.sqrt(1-v**2)\n",
    "t_nave=redondeot/gamma\n",
    "redondeon=round(t_nave,2)\n",
    "print(\"b) Mientras para la nave el viaje será de\",redondeon,\"años\")"
   ]
  },
  {
   "cell_type": "code",
   "execution_count": null,
   "metadata": {},
   "outputs": [],
   "source": []
  },
  {
   "cell_type": "markdown",
   "metadata": {},
   "source": [
    "#### Usa tu programa para calcular las respuestas para un planeta a 10 años luz de distancia con $v = 0.99c$"
   ]
  },
  {
   "cell_type": "code",
   "execution_count": 17,
   "metadata": {},
   "outputs": [
    {
     "name": "stdin",
     "output_type": "stream",
     "text": [
      "Ingresa la distancia a recorrer en años luz: 10\n",
      "Ingresa la velocidad expresada como una fracción de la velopcidad de la luz (c) 0.99\n"
     ]
    },
    {
     "name": "stdout",
     "output_type": "stream",
     "text": [
      "Para un observador en la tierra la nave llega en 10.1 años\n",
      "Mientras para la nave el viaje será de 1.42 años\n"
     ]
    }
   ],
   "source": [
    "import numpy as np\n",
    "import math as mt\n",
    "c=3e8\n",
    "x=float(input(\"Ingresa la distancia a recorrer en años luz:\"))\n",
    "v=float(input(\"Ingresa la velocidad expresada como una fracción de la velopcidad de la luz (c)\"))\n",
    "t_tierra=x/v\n",
    "redondeot=round(t_tierra,2)\n",
    "print(\"Para un observador en la tierra la nave llega en\", redondeot, \"años\")\n",
    "gamma=1/mt.sqrt(1-v**2)\n",
    "t_nave=redondeot/gamma\n",
    "redondeon=round(t_nave,2)\n",
    "print(\"Mientras para la nave el viaje será de\",redondeon,\"años\")"
   ]
  },
  {
   "cell_type": "markdown",
   "metadata": {},
   "source": [
    "#### **3. Órbitas planetarias**: En el espacio, la órbita de un cuerpo alrededor de otro (como un planeta alrededor del Sol), no necesariamente es circular. En general, toma la forma de una elipse, con el cuerpo a veces más cerca y otras más lejos. Si tenemos la distancia $\\ell_1$ de máxima aproximación de un planeta al Sol (su \\textit{perihelio}), y su velocidad lineal $v_1$ en el perihelio, entonces cualquier otra propiedad de la órbita se puede calcular a partir de estas dos cantidades de la siguiente manera:\n",
    "\n",
    "#### **(a)** La segunda ley de Kepler nos dice que la distancia $\\ell_2$ y la velocidad $v_2$ del planeta en su punto más distante, o \\textit{afelio}, satisfacen que $\\ell_2 v_2 = \\ell_1 v_1$.  Al mismo tiempo, la energía total, cinética más la gravitatoria, de un planeta con velocidad $v$ y distancia $r$ del Sol está dada por:\n",
    "\n",
    "<h3 align=\"center\">$E = \\frac{1}{2} m v^2 - G {mM\\over r}$,</h3>\n",
    "       \n",
    "#### donde $m$ es la masa del planeta, $M=1.9891\\times10^{30}\\,$kg es la masa del Sol y $G=6.6738\\times10^{-11}\\,\\mathrm{m^3\\,kg^{-1}\\,s^{-2}}$ es la constante gravitatoria de Newton. Dado que la energía debe conservarse, demuestre que $v_2$ es la raíz más pequeña de la ecuación cuadrática:\n",
    "\n",
    "<h3 align=\"center\">$v_2^2 - {2GM\\over v_1\\ell_1} v_2 - \\biggl[ v_1^2 - {2GM\\over\\ell_1} \\biggr] = 0$.</h3>\n",
    "\n",
    "#### Una vez que tenemos $v_2$ podemos calcular $\\ell_2$  usando la relación $\\ell_2 = \\ell_1 v_1/v_2$.\n"
   ]
  },
  {
   "cell_type": "code",
   "execution_count": null,
   "metadata": {},
   "outputs": [],
   "source": []
  },
  {
   "cell_type": "code",
   "execution_count": null,
   "metadata": {},
   "outputs": [],
   "source": []
  },
  {
   "cell_type": "code",
   "execution_count": null,
   "metadata": {},
   "outputs": [],
   "source": []
  },
  {
   "cell_type": "markdown",
   "metadata": {},
   "source": [
    "#### **(b)**  Dados los valores de $v_1$, $\\ell_1$, y $\\ell_2$; otros parámetros de la órbita se obtienen mediante fórmulas simples que pueden derivarse de las leyes de Kepler y del hecho de que la órbita es una elipse:\n",
    "\n",
    "<h4 align=\"center\"><b>Semieje mayor</b>: $\\; \\; \\; a = \\frac{1}{2}(\\ell_1+\\ell_2),$</h3>\n",
    "\n",
    "<h4 align=\"center\"><b>Semieje menor</b>: $\\; \\; b = \\sqrt{\\ell_1\\ell_2},$</h3>\n",
    "\n",
    "<h4 align=\"center\"><b>Período orbital</b>: $\\; \\; T = {2\\pi ab\\over\\ell_1 v_1},$</h3>\n",
    "\n",
    "<h4 align=\"center\"><b>Excentricidad orbital</b>: $\\; \\; e = {\\ell_2-\\ell_1\\over\\ell_2+\\ell_1},$</h3>\n",
    "\n",
    "#### Escribe un programa que le pida al usuario que ingrese la distancia al Sol y la velocidad en el perihelio; para que calcule e imprima las cantidades $\\ell_2$, $v_2$, $T$ y $e$.\n"
   ]
  },
  {
   "cell_type": "code",
   "execution_count": 44,
   "metadata": {},
   "outputs": [
    {
     "name": "stdin",
     "output_type": "stream",
     "text": [
      "Ingrese el valor de la velocidad en el perihelio v1 30290\n",
      "Ingrese el valor de la distancia en le perihelio l1 1.471e11\n"
     ]
    },
    {
     "name": "stdout",
     "output_type": "stream",
     "text": [
      "El valor de la velocidad en el afelio = 29297.965326790112\n",
      "La distancia en su afelio l2 = 152080833952.17\n",
      "El periodo orbital T = 31551155.87\n",
      "O bien es T = 365.18 días\n",
      "La excentricidad e = 0.01665\n"
     ]
    }
   ],
   "source": [
    "import math as mt\n",
    "v1=float(input(\"Ingrese el valor de la velocidad en el perihelio v1\"))\n",
    "l1=float(input(\"Ingrese el valor de la distancia en le perihelio l1\"))\n",
    "G = 6.6743e-11\n",
    "M = 1.989e30  \n",
    "A = 1\n",
    "B = - (2 * G * M) / (v1 * l1)\n",
    "C = - (v1**2 - (2 * G * M / l1))\n",
    "discriminante = B**2 - 4 * A * C\n",
    "if discriminante < 0:\n",
    "    print(\"El discriminante es negativo, el cálculo es inválido\")\n",
    "else:\n",
    "    v2 = (-B - mt.sqrt(discriminante)) / (2 * A)\n",
    "print(\"El valor de la velocidad en el afelio =\", v2)\n",
    "l2=(l1*v1)/v2\n",
    "a=(1/2)*(l1+l2)\n",
    "b=mt.sqrt(l1*l2)\n",
    "if b<0:\n",
    "    print(\"La expresión es negativa, la raíz es inválida\")\n",
    "else:\n",
    "    T=(2*mt.pi*a*b)/(l1*v1)\n",
    "e=(l2-l1)/(l2+l1)\n",
    "print(f\"La distancia en su afelio l2 = {l2:.2f}\")\n",
    "print(f\"El periodo orbital T = {T:.2f}\")\n",
    "T_dias = T / (60*60*24)\n",
    "print(f\"O bien es T = {T_dias:.2f} días\")\n",
    "print(f\"La excentricidad e = {e:.5f}\")\n"
   ]
  },
  {
   "cell_type": "markdown",
   "metadata": {},
   "source": [
    "#### **(c)** Prueba tu programa haciendo que calcule las propiedades de las órbitas de la Tierra (para las cuales $\\ell_1=1.4710\\times10^{11}\\,$m y $v_1=3.0287\\times10^4\\,\\mathrm{m\\,s^{-1}}$)  y del cometa Halley ($\\ell_1=8.7830\\times10^{10}\\,$m y $v_1=5.4529\\times10^4\\,\\mathrm{m\\,s^{-1}}$). Entre otras cosas, deberías encontrar que el período orbital de la Tierra es de un año y el del cometa Halley es de unos 76 años."
   ]
  },
  {
   "cell_type": "code",
   "execution_count": 43,
   "metadata": {},
   "outputs": [
    {
     "name": "stdout",
     "output_type": "stream",
     "text": [
      "El valor de la velocidad en el afelio = 29306.87\n",
      "La distancia en su afelio l2 = 152019579575.61\n",
      "El periodo orbital T = 31541466.67\n",
      "O bien es T = 365.06 días\n",
      "La excentricidad e = 0.01645\n"
     ]
    }
   ],
   "source": [
    "##Para la tierra\n",
    "import math as mt\n",
    "v1=3.0287e4\n",
    "l1=1.4710e11\n",
    "G = 6.6743e-11\n",
    "M = 1.989e30  \n",
    "A = 1\n",
    "B = - (2 * G * M) / (v1 * l1)\n",
    "C = - (v1**2 - (2 * G * M / l1))\n",
    "discriminante = B**2 - 4 * A * C\n",
    "if discriminante < 0:\n",
    "    print(\"El discriminante es negativo, el cálculo es inválido\")\n",
    "else:\n",
    "    v2 = (-B - mt.sqrt(discriminante)) / (2 * A)\n",
    "print(f\"El valor de la velocidad en el afelio = {v2:.2f}\")\n",
    "l2=(l1*v1)/v2\n",
    "a=(1/2)*(l1+l2)\n",
    "b=mt.sqrt(l1*l2)\n",
    "if b<0:\n",
    "    print(\"La expresión es negativa, la raíz es inválida\")\n",
    "else:\n",
    "    T=(2*mt.pi*a*b)/(l1*v1)\n",
    "e=(l2-l1)/(l2+l1)\n",
    "print(f\"La distancia en su afelio l2 = {l2:.2f}\")\n",
    "print(f\"El periodo orbital T = {T:.2f}\")\n",
    "T_dias = T / (60*60*24)\n",
    "print(f\"O bien es T = {T_dias:.2f} días\")\n",
    "print(f\"La excentricidad e = {e:.5f}\")\n"
   ]
  },
  {
   "cell_type": "code",
   "execution_count": 45,
   "metadata": {},
   "outputs": [
    {
     "name": "stdout",
     "output_type": "stream",
     "text": [
      "El valor de la velocidad en el afelio = 908.05\n",
      "La distancia en su afelio l2 = 5274268185967.95\n",
      "El periodo orbital T = 2393959311.21\n",
      "O bien es T = 27707.86 días\n",
      "La excentricidad e = 0.96724\n"
     ]
    }
   ],
   "source": [
    "##Para el cometa\n",
    "import math as mt\n",
    "v1=5.4529e4\n",
    "l1=8.7830e10\n",
    "G = 6.6743e-11\n",
    "M = 1.989e30  \n",
    "A = 1\n",
    "B = - (2 * G * M) / (v1 * l1)\n",
    "C = - (v1**2 - (2 * G * M / l1))\n",
    "discriminante = B**2 - 4 * A * C\n",
    "if discriminante < 0:\n",
    "    print(\"El discriminante es negativo, el cálculo es inválido\")\n",
    "else:\n",
    "    v2 = (-B - mt.sqrt(discriminante)) / (2 * A)\n",
    "print(f\"El valor de la velocidad en el afelio = {v2:.2f}\")\n",
    "l2=(l1*v1)/v2\n",
    "a=(1/2)*(l1+l2)\n",
    "b=mt.sqrt(l1*l2)\n",
    "if b<0:\n",
    "    print(\"La expresión es negativa, la raíz es inválida\")\n",
    "else:\n",
    "    T=(2*mt.pi*a*b)/(l1*v1)\n",
    "e=(l2-l1)/(l2+l1)\n",
    "print(f\"La distancia en su afelio l2 = {l2:.2f}\")\n",
    "print(f\"El periodo orbital T = {T:.2f}\")\n",
    "T_dias = T / (60*60*24)\n",
    "print(f\"O bien es T = {T_dias:.2f} días\")\n",
    "print(f\"La excentricidad e = {e:.5f}\")\n"
   ]
  },
  {
   "cell_type": "markdown",
   "metadata": {},
   "source": [
    "### **4.La fórmula semiempírica de la masa (FSM)**: En física nuclear, la fórmula de Weizsäcker (conocida tambien como fórmula semiempírica) sirve para evaluar la masa y otras propiedades de un nucleo atómico; y está basada parcialmente en mediciones empíricas."
   ]
  }
 ],
 "metadata": {
  "@webio": {
   "lastCommId": null,
   "lastKernelId": null
  },
  "kernelspec": {
   "display_name": "Python 3 (ipykernel)",
   "language": "python",
   "name": "python3"
  },
  "language_info": {
   "codemirror_mode": {
    "name": "ipython",
    "version": 3
   },
   "file_extension": ".py",
   "mimetype": "text/x-python",
   "name": "python",
   "nbconvert_exporter": "python",
   "pygments_lexer": "ipython3",
   "version": "3.13.2"
  }
 },
 "nbformat": 4,
 "nbformat_minor": 4
}
