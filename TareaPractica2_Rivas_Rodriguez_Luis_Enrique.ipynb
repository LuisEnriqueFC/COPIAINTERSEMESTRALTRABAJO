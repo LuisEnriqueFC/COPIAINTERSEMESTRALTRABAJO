{
 "cells": [
  {
   "cell_type": "markdown",
   "metadata": {},
   "source": [
    "<h1 align=\"center\">Física Computacional.</h1>\n",
    "<h1 align=\"center\">Semestre 2025-4</h1>\n",
    "\n",
    "<h2>Sergio A. Alcalá Corona </h2> \n",
    "\n",
    "---\n",
    "### Rodrigo Vega Vilchis\n",
    "### Daniel Rojo Mata\n",
    "---"
   ]
  },
  {
   "cell_type": "markdown",
   "metadata": {},
   "source": [
    "<h1 align=\"center\">Programación para la física computacional</h1> \n",
    "\n",
    "## Práctica 2.  Graficación en Python e Itegración Numérica\n",
    "\n",
    "\n",
    "### Programación básica para la física\n",
    "### Alumno: Rivas Rodriguez Luis Enrique\n",
    "---"
   ]
  },
  {
   "cell_type": "markdown",
   "metadata": {},
   "source": [
    "### **EJERCICIOS**:\n",
    "\n",
    "$\\;$\n",
    "\n",
    "#### **1. Altitud de un satélite**: se va a lanzar un satélite en una órbita circular alrededor de la Tierra de modo que orbite el planeta una vez cada $T$ segundos."
   ]
  },
  {
   "cell_type": "markdown",
   "metadata": {},
   "source": [
    "#### **(a)** Demuestre que la altitud $h$ sobre la superficie de la Tierra que debe tener el satélite es:\n",
    "\n",
    "<h3 align=\"center\">$h = \\biggl( {GMT^2\\over4\\pi^2} \\biggr)^{1/3} - R$,</h3> \n",
    "\n",
    "donde $G = 6,67 × 10^{−11} m^3 kg^{−1}s^{−2}$ es la constante gravitatoria de Newton, $M = 5,97 ×\n",
    "1024 kg$ es la masa de la Tierra, y $R = 6371 km$ es su radio.\n",
    "\n",
    "\n"
   ]
  },
  {
   "cell_type": "markdown",
   "metadata": {},
   "source": [
    "Para que un satélite se mantenga en un órbita circular debemos considerar que las fuerzas centrípeta debe ser igual a la fuerza gravitacional que lo mantiene cerca del planeta entonces tenemos que\n",
    "$F_c=F_g$\n",
    "\n",
    "\n",
    "Entonces usando la fórmula gravitacional de Newton donde\n",
    "$F_g= \\frac{G \\cdot m_1 \\cdot m_2}{r^2} $\n",
    "y la de la fuerza centrípeta $\\frac{mv^2}{r}$ por lo tanto obtenemos las siguientes igualdad\n",
    "\n",
    "$F_g= \\frac{G \\cdot M \\cdot m}{r^2} = \\frac{mv^2}{r}$\n",
    "\n",
    "Para le caso de un satélite que orbita fuera de la tierra debemos tomar en cuenta a r como $r=R+h$ con R el radio del planeta y h la altura que alcanza el satélite, además consideremos que $v=\\frac{d}{T}$ donde d es la distancia por vuelta completa al planeta, considerando un movimiento circular podemos expresar $v=\\frac{2\\pi (R+h)}{T}$ entonces podemos sustituir esta expresión y despejar de la siguiente manera\n",
    "\n",
    "\n",
    " $\\frac{GM}{(R+h)^2}=\\frac{mv^2}{R+h}$ $\\implies$ $\\frac{GM}{R+h}=v^2=\\left(\\frac{2\\pi (R+h)}{T}\\right)^2=\\frac{4\\pi^2(R+h)^2}{T^2}\\implies GMT^2=4\\pi^2 (R+h)^3\\implies (R+h)^3=\\frac{GMT^2}{4\\pi^2}\\implies R+h=\\left(\\frac{GMT^2}{4\\pi^2}\\right)^{\\frac{1}{3}}\\implies h=\\left(\\frac{GMT^2}{4\\pi^2}\\right)^{\\frac{1}{3}}-R$\n",
    " \n",
    " Obteniendo así la expresión esperada.\n"
   ]
  },
  {
   "cell_type": "markdown",
   "metadata": {},
   "source": [
    "#### **(b)** Escribe un programa que le pida al usuario que ingrese el valor deseado de $T$ y luego calcule e imprima la altura correcta en metros.\n"
   ]
  },
  {
   "cell_type": "code",
   "execution_count": 1,
   "metadata": {},
   "outputs": [],
   "source": [
    "import numpy as np\n",
    "import math as mt\n",
    "import pandas as pd\n"
   ]
  },
  {
   "cell_type": "code",
   "execution_count": 2,
   "metadata": {},
   "outputs": [
    {
     "name": "stdin",
     "output_type": "stream",
     "text": [
      "Ingresa el tiempo T en segundo que le toma al satélite para orbitar el planeta: 86400\n"
     ]
    },
    {
     "name": "stdout",
     "output_type": "stream",
     "text": [
      "Usando la fórmula de la altitud de un satélite se puede determinar dicha altitud con el valor dado\n",
      "Dado el tiempo T proporcionado la altitud del satélite será 35855910.18 metros\n"
     ]
    }
   ],
   "source": [
    "T=int(input(\"Ingresa el tiempo T en segundo que le toma al satélite para orbitar el planeta:\"))\n",
    "print(\"Usando la fórmula de la altitud de un satélite se puede determinar dicha altitud con el valor dado\")\n",
    "G=6.67e-11\n",
    "M=5.97e24\n",
    "R=6.371e6\n",
    "h=((G*M*T**2)/(4 *mt.pi**2))**(1/3)-R\n",
    "redondeo=round(h,2)\n",
    "print(\"Dado el tiempo T proporcionado la altitud del satélite será\", redondeo, \"metros\")"
   ]
  },
  {
   "cell_type": "markdown",
   "metadata": {},
   "source": [
    "#### **(c)** Utiliza tu programa para calcular las altitudes de los satélites que orbitan la Tierra una vez al día (la llamada *órbita \"geosincrónica\"*), una vez cada **90 minutos** y una vez cada **45 minutos**. \n",
    "#### ¿Qué concluyes del último de estos cálculos?"
   ]
  },
  {
   "cell_type": "code",
   "execution_count": 3,
   "metadata": {},
   "outputs": [
    {
     "name": "stdout",
     "output_type": "stream",
     "text": [
      "Dado el tiempo T proporcionado la altitud del satélite será 279321.63 metros\n"
     ]
    }
   ],
   "source": [
    "Tm=90\n",
    "ts=Tm*60\n",
    "G=6.67e-11\n",
    "M=5.97e24\n",
    "R=6.371e6\n",
    "h=((G*M*ts**2)/(4 *mt.pi**2))**(1/3)-R\n",
    "redondeo=round(h,2)\n",
    "print(\"Dado el tiempo T proporcionado la altitud del satélite será\", redondeo, \"metros\")"
   ]
  },
  {
   "cell_type": "code",
   "execution_count": 4,
   "metadata": {},
   "outputs": [
    {
     "name": "stdout",
     "output_type": "stream",
     "text": [
      "Dado el tiempo T proporcionado la altitud del satélite será -2181559.9 metros\n"
     ]
    }
   ],
   "source": [
    "Tm=45\n",
    "ts=Tm*60\n",
    "G=6.67e-11\n",
    "M=5.97e24\n",
    "R=6.371e6\n",
    "h=((G*M*ts**2)/(4 *mt.pi**2))**(1/3)-R\n",
    "redondeo=round(h,2)\n",
    "print(\"Dado el tiempo T proporcionado la altitud del satélite será\", redondeo, \"metros\")"
   ]
  },
  {
   "cell_type": "markdown",
   "metadata": {},
   "source": [
    "Como se observa en los resultados a una cierta cantidad de tiempo los resultados se vuelven negativos indicando que existe un mínimo de tiempo de órbita que está estrechamente relacionado con la altitud de dichos satélites, que al bajar de éste mínimo da resultados irreales o que indican que es físicamente imposible mantener un satélite en órbita, entonces, podemos concluir que los valores del tiempo de órbita y altitud son dependientes entre sí."
   ]
  },
  {
   "cell_type": "markdown",
   "metadata": {},
   "source": [
    "#### **2. Relatividad especial:** Una nave espacial viaja desde la Tierra en línea recta a una velocidad relativista $v$ a otro planeta a $x$ años luz de distancia. \n",
    "\n",
    "#### Escribe un programa que le pida al usuario el valor de $x$ y la velocidad $v$ como una fracción de la velocidad de la luz $c$, y que imprima el tiempo en años que tarda la nave espacial en llegar a su destino\n",
    "\n",
    "#### **(a)** en el marco de reposo de un observador en la Tierra y"
   ]
  },
  {
   "cell_type": "markdown",
   "metadata": {},
   "source": [
    "#### **(b)** como lo percibiría un pasajero a bordo de la nave. "
   ]
  },
  {
   "cell_type": "code",
   "execution_count": 5,
   "metadata": {},
   "outputs": [
    {
     "name": "stdin",
     "output_type": "stream",
     "text": [
      "Ingresa la distancia a recorrer en años luz: 95\n",
      "Ingresa la velocidad expresada como una fracción de la velopcidad de la luz (c) 0.74\n"
     ]
    },
    {
     "name": "stdout",
     "output_type": "stream",
     "text": [
      "a) Para un observador en la tierra la nave llega en 128.38 años\n",
      "b) Mientras para la nave el viaje será de 86.35 años\n"
     ]
    }
   ],
   "source": [
    "import numpy as np\n",
    "import math as mt\n",
    "c=3e8\n",
    "x=float(input(\"Ingresa la distancia a recorrer en años luz:\"))\n",
    "v=float(input(\"Ingresa la velocidad expresada como una fracción de la velopcidad de la luz (c)\"))\n",
    "t_tierra=x/v\n",
    "redondeot=round(t_tierra,2)\n",
    "print(\"a) Para un observador en la tierra la nave llega en\", redondeot, \"años\")\n",
    "gamma=1/mt.sqrt(1-v**2)\n",
    "t_nave=redondeot/gamma\n",
    "redondeon=round(t_nave,2)\n",
    "print(\"b) Mientras para la nave el viaje será de\",redondeon,\"años\")"
   ]
  },
  {
   "cell_type": "markdown",
   "metadata": {},
   "source": [
    "#### Usa tu programa para calcular las respuestas para un planeta a 10 años luz de distancia con $v = 0.99c$"
   ]
  },
  {
   "cell_type": "code",
   "execution_count": 7,
   "metadata": {},
   "outputs": [
    {
     "name": "stdin",
     "output_type": "stream",
     "text": [
      "Ingresa la distancia a recorrer en años luz: 10\n",
      "Ingresa la velocidad expresada como una fracción de la velocidad de la luz (c) 0.99\n"
     ]
    },
    {
     "name": "stdout",
     "output_type": "stream",
     "text": [
      "Para un observador en la tierra la nave llega en 10.1 años\n",
      "Mientras para la nave el viaje será de 1.42 años\n"
     ]
    }
   ],
   "source": [
    "import numpy as np\n",
    "import math as mt\n",
    "c=3e8\n",
    "x=float(input(\"Ingresa la distancia a recorrer en años luz:\"))\n",
    "v=float(input(\"Ingresa la velocidad expresada como una fracción de la velocidad de la luz (c)\"))\n",
    "t_tierra=x/v\n",
    "redondeot=round(t_tierra,2)\n",
    "print(\"Para un observador en la tierra la nave llega en\", redondeot, \"años\")\n",
    "gamma=1/mt.sqrt(1-v**2)\n",
    "t_nave=redondeot/gamma\n",
    "redondeon=round(t_nave,2)\n",
    "print(\"Mientras para la nave el viaje será de\",redondeon,\"años\")"
   ]
  },
  {
   "cell_type": "markdown",
   "metadata": {},
   "source": [
    "#### **3. Órbitas planetarias**: En el espacio, la órbita de un cuerpo alrededor de otro (como un planeta alrededor del Sol), no necesariamente es circular. En general, toma la forma de una elipse, con el cuerpo a veces más cerca y otras más lejos. Si tenemos la distancia $\\ell_1$ de máxima aproximación de un planeta al Sol (su \\textit{perihelio}), y su velocidad lineal $v_1$ en el perihelio, entonces cualquier otra propiedad de la órbita se puede calcular a partir de estas dos cantidades de la siguiente manera:\n",
    "\n",
    "#### **(a)** La segunda ley de Kepler nos dice que la distancia $\\ell_2$ y la velocidad $v_2$ del planeta en su punto más distante, o \\textit{afelio}, satisfacen que $\\ell_2 v_2 = \\ell_1 v_1$.  Al mismo tiempo, la energía total, cinética más la gravitatoria, de un planeta con velocidad $v$ y distancia $r$ del Sol está dada por:\n",
    "\n",
    "<h3 align=\"center\">$E = \\frac{1}{2} m v^2 - G {mM\\over r}$,</h3>\n",
    "       \n",
    "#### donde $m$ es la masa del planeta, $M=1.9891\\times10^{30}\\,$kg es la masa del Sol y $G=6.6738\\times10^{-11}\\,\\mathrm{m^3\\,kg^{-1}\\,s^{-2}}$ es la constante gravitatoria de Newton. Dado que la energía debe conservarse, demuestre que $v_2$ es la raíz más pequeña de la ecuación cuadrática:\n",
    "\n",
    "<h3 align=\"center\">$v_2^2 - {2GM\\over v_1\\ell_1} v_2 - \\biggl[ v_1^2 - {2GM\\over\\ell_1} \\biggr] = 0$.</h3>\n",
    "\n",
    "#### Una vez que tenemos $v_2$ podemos calcular $\\ell_2$  usando la relación $\\ell_2 = \\ell_1 v_1/v_2$.\n"
   ]
  },
  {
   "cell_type": "markdown",
   "metadata": {},
   "source": [
    "Considerando de la ecuación cuadrática:\n",
    "\n",
    "$$\n",
    "v_2^2 - \\frac{2GM}{v_1 \\ell_1} v_2 - \\left( v_1^2 - \\frac{2GM}{\\ell_1} \\right) = 0\n",
    "$$\n",
    "\n",
    "Como comúnmente se sabe esta solo tiene dos soluciones reales, ya que el discriminante es positivo. Aplicando la fórmula cuadrática:\n",
    "\n",
    "$$\n",
    "v_2 = \\frac{\\dfrac{2GM}{v_1 \\ell_1} \\pm \\sqrt{ \\left( \\dfrac{2GM}{v_1 \\ell_1} \\right)^2 + 4\\left( v_1^2 - \\dfrac{2GM}{\\ell_1} \\right) }}{2}\n",
    "$$\n",
    "\n",
    "Como se trata de sumar o restar una cantidad positiva, la raíz con el signo “–” es la más pequeña de las dos. Sin embargo, para justificar físicamente que esa raíz representa la verdadera velocidad $v_2$, aplicamos conservación del momento angular:\n",
    "\n",
    "$$\n",
    "\\ell_1 v_1 = \\ell_2 v_2 \\quad \\Rightarrow \\quad v_2 = \\frac{\\ell_1 v_1}{\\ell_2}\n",
    "$$\n",
    "\n",
    "Y dado que $\\ell_2 > \\ell_1$ (el afelio está más lejos que el perihelio en una órbita elíptica), se concluye que:\n",
    "\n",
    "$$\n",
    "\\frac{\\ell_1}{\\ell_2} < 1 \\quad \\Rightarrow \\quad v_2 < v_1\n",
    "$$\n",
    "\n",
    "Es decir, el valor válido de $v_2$ debe ser menor que $v_1$. Al mirar las dos raíces de la ecuación, sólo una cumple con esta condición siendo así la más pequeña.\n"
   ]
  },
  {
   "cell_type": "markdown",
   "metadata": {},
   "source": [
    "#### **(b)**  Dados los valores de $v_1$, $\\ell_1$, y $\\ell_2$; otros parámetros de la órbita se obtienen mediante fórmulas simples que pueden derivarse de las leyes de Kepler y del hecho de que la órbita es una elipse:\n",
    "\n",
    "<h4 align=\"center\"><b>Semieje mayor</b>: $\\; \\; \\; a = \\frac{1}{2}(\\ell_1+\\ell_2),$</h3>\n",
    "\n",
    "<h4 align=\"center\"><b>Semieje menor</b>: $\\; \\; b = \\sqrt{\\ell_1\\ell_2},$</h3>\n",
    "\n",
    "<h4 align=\"center\"><b>Período orbital</b>: $\\; \\; T = {2\\pi ab\\over\\ell_1 v_1},$</h3>\n",
    "\n",
    "<h4 align=\"center\"><b>Excentricidad orbital</b>: $\\; \\; e = {\\ell_2-\\ell_1\\over\\ell_2+\\ell_1},$</h3>\n",
    "\n",
    "#### Escribe un programa que le pida al usuario que ingrese la distancia al Sol y la velocidad en el perihelio; para que calcule e imprima las cantidades $\\ell_2$, $v_2$, $T$ y $e$.\n"
   ]
  },
  {
   "cell_type": "code",
   "execution_count": 44,
   "metadata": {},
   "outputs": [
    {
     "name": "stdin",
     "output_type": "stream",
     "text": [
      "Ingrese el valor de la velocidad en el perihelio v1 30290\n",
      "Ingrese el valor de la distancia en le perihelio l1 1.471e11\n"
     ]
    },
    {
     "name": "stdout",
     "output_type": "stream",
     "text": [
      "El valor de la velocidad en el afelio = 29297.965326790112\n",
      "La distancia en su afelio l2 = 152080833952.17\n",
      "El periodo orbital T = 31551155.87\n",
      "O bien es T = 365.18 días\n",
      "La excentricidad e = 0.01665\n"
     ]
    }
   ],
   "source": [
    "import math as mt\n",
    "v1=float(input(\"Ingrese el valor de la velocidad en el perihelio v1\"))\n",
    "l1=float(input(\"Ingrese el valor de la distancia en le perihelio l1\"))\n",
    "G = 6.6743e-11\n",
    "M = 1.989e30  \n",
    "A = 1\n",
    "B = - (2 * G * M) / (v1 * l1)\n",
    "C = - (v1**2 - (2 * G * M / l1))\n",
    "discriminante = B**2 - 4 * A * C\n",
    "if discriminante < 0:\n",
    "    print(\"El discriminante es negativo, el cálculo es inválido\")\n",
    "else:\n",
    "    v2 = (-B - mt.sqrt(discriminante)) / (2 * A)\n",
    "print(\"El valor de la velocidad en el afelio =\", v2)\n",
    "l2=(l1*v1)/v2\n",
    "a=(1/2)*(l1+l2)\n",
    "b=mt.sqrt(l1*l2)\n",
    "if b<0:\n",
    "    print(\"La expresión es negativa, la raíz es inválida\")\n",
    "else:\n",
    "    T=(2*mt.pi*a*b)/(l1*v1)\n",
    "e=(l2-l1)/(l2+l1)\n",
    "print(f\"La distancia en su afelio l2 = {l2:.2f}\")\n",
    "print(f\"El periodo orbital T = {T:.2f}\")\n",
    "T_dias = T / (60*60*24)\n",
    "print(f\"O bien es T = {T_dias:.2f} días\")\n",
    "print(f\"La excentricidad e = {e:.5f}\")\n"
   ]
  },
  {
   "cell_type": "markdown",
   "metadata": {},
   "source": [
    "#### **(c)** Prueba tu programa haciendo que calcule las propiedades de las órbitas de la Tierra (para las cuales $\\ell_1=1.4710\\times10^{11}\\,$m y $v_1=3.0287\\times10^4\\,\\mathrm{m\\,s^{-1}}$)  y del cometa Halley ($\\ell_1=8.7830\\times10^{10}\\,$m y $v_1=5.4529\\times10^4\\,\\mathrm{m\\,s^{-1}}$). Entre otras cosas, deberías encontrar que el período orbital de la Tierra es de un año y el del cometa Halley es de unos 76 años."
   ]
  },
  {
   "cell_type": "code",
   "execution_count": 43,
   "metadata": {},
   "outputs": [
    {
     "name": "stdout",
     "output_type": "stream",
     "text": [
      "El valor de la velocidad en el afelio = 29306.87\n",
      "La distancia en su afelio l2 = 152019579575.61\n",
      "El periodo orbital T = 31541466.67\n",
      "O bien es T = 365.06 días\n",
      "La excentricidad e = 0.01645\n"
     ]
    }
   ],
   "source": [
    "##Para la tierra\n",
    "import math as mt\n",
    "v1=3.0287e4\n",
    "l1=1.4710e11\n",
    "G = 6.6743e-11\n",
    "M = 1.989e30  \n",
    "A = 1\n",
    "B = - (2 * G * M) / (v1 * l1)\n",
    "C = - (v1**2 - (2 * G * M / l1))\n",
    "discriminante = B**2 - 4 * A * C\n",
    "if discriminante < 0:\n",
    "    print(\"El discriminante es negativo, el cálculo es inválido\")\n",
    "else:\n",
    "    v2 = (-B - mt.sqrt(discriminante)) / (2 * A)\n",
    "print(f\"El valor de la velocidad en el afelio = {v2:.2f}\")\n",
    "l2=(l1*v1)/v2\n",
    "a=(1/2)*(l1+l2)\n",
    "b=mt.sqrt(l1*l2)\n",
    "if b<0:\n",
    "    print(\"La expresión es negativa, la raíz es inválida\")\n",
    "else:\n",
    "    T=(2*mt.pi*a*b)/(l1*v1)\n",
    "e=(l2-l1)/(l2+l1)\n",
    "print(f\"La distancia en su afelio l2 = {l2:.2f}\")\n",
    "print(f\"El periodo orbital T = {T:.2f}\")\n",
    "T_dias = T / (60*60*24)\n",
    "print(f\"O bien es T = {T_dias:.2f} días\")\n",
    "print(f\"La excentricidad e = {e:.5f}\")\n"
   ]
  },
  {
   "cell_type": "code",
   "execution_count": 45,
   "metadata": {},
   "outputs": [
    {
     "name": "stdout",
     "output_type": "stream",
     "text": [
      "El valor de la velocidad en el afelio = 908.05\n",
      "La distancia en su afelio l2 = 5274268185967.95\n",
      "El periodo orbital T = 2393959311.21\n",
      "O bien es T = 27707.86 días\n",
      "La excentricidad e = 0.96724\n"
     ]
    }
   ],
   "source": [
    "##Para el cometa\n",
    "import math as mt\n",
    "v1=5.4529e4\n",
    "l1=8.7830e10\n",
    "G = 6.6743e-11\n",
    "M = 1.989e30  \n",
    "A = 1\n",
    "B = - (2 * G * M) / (v1 * l1)\n",
    "C = - (v1**2 - (2 * G * M / l1))\n",
    "discriminante = B**2 - 4 * A * C\n",
    "if discriminante < 0:\n",
    "    print(\"El discriminante es negativo, el cálculo es inválido\")\n",
    "else:\n",
    "    v2 = (-B - mt.sqrt(discriminante)) / (2 * A)\n",
    "print(f\"El valor de la velocidad en el afelio = {v2:.2f}\")\n",
    "l2=(l1*v1)/v2\n",
    "a=(1/2)*(l1+l2)\n",
    "b=mt.sqrt(l1*l2)\n",
    "if b<0:\n",
    "    print(\"La expresión es negativa, la raíz es inválida\")\n",
    "else:\n",
    "    T=(2*mt.pi*a*b)/(l1*v1)\n",
    "e=(l2-l1)/(l2+l1)\n",
    "print(f\"La distancia en su afelio l2 = {l2:.2f}\")\n",
    "print(f\"El periodo orbital T = {T:.2f}\")\n",
    "T_dias = T / (60*60*24)\n",
    "print(f\"O bien es T = {T_dias:.2f} días\")\n",
    "print(f\"La excentricidad e = {e:.5f}\")\n"
   ]
  },
  {
   "cell_type": "markdown",
   "metadata": {},
   "source": [
    "### **4.La fórmula semiempírica de la masa (FSM)**: En física nuclear, la fórmula de Weizsäcker (conocida tambien como fórmula semiempírica) sirve para evaluar la masa y otras propiedades de un nucleo atómico; y está basada parcialmente en mediciones empíricas.\n",
    "\n",
    "### En particular la fórmula se usa para calcular la energía de enlace nuclear aproximada  B, de un nucleo atómico con número atómico Z y número de masa A:\n",
    "\n",
    "$B = a_1 A - a_2 A^{2/3} - a_3 \\frac{Z^2}{A^{1/3}} - a_4 \\frac{(A - 2Z)^2}{A} + \\frac{a_5}{A^{1/2}}$\n",
    "\n",
    "donde, en unidades de millones de electrón-volts:\n",
    "\n",
    "\n",
    "\n",
    "$a_1 = 15.8, \\quad a_2 = 18.3, \\quad a_3 = 0.714, \\quad a_4 = 23.2,$\n",
    "\n",
    "\n",
    "\n",
    "y\n",
    "\n",
    "\n",
    "\n",
    "$a_5 =  \\begin{cases} \n",
    "0 & \\text{si } A \\text{ es impar}, \\\\\n",
    "12.0 & \\text{si } A \\text{ y } Z \\text{ son pares (ambos)}, \\\\\n",
    "-12.0 & \\text{si } A \\text{ es par y } Z \\text{ impar}.\n",
    "\\end{cases}$\n"
   ]
  },
  {
   "cell_type": "markdown",
   "metadata": {},
   "source": [
    "\n",
    "### a) Escribe un programa que tome como entrada los valores de \\( A \\) y \\( Z \\), e imprima la energía de enlace \\( B \\) para el átomo correspondiente. Usa tu programa para encontrar la energía de enlace de un átomo con \\( A = 58 \\) y \\( Z = 28 \\). (Hint: La respuesta correcta es alrededor de los 490 MeV)."
   ]
  },
  {
   "cell_type": "code",
   "execution_count": 9,
   "metadata": {},
   "outputs": [
    {
     "name": "stdin",
     "output_type": "stream",
     "text": [
      "Ingrese el valor de masa A del átomo: 58\n",
      "Ingrese el número atómico de del elemento: 28\n"
     ]
    },
    {
     "name": "stdout",
     "output_type": "stream",
     "text": [
      "La energía de enlace del átomo con A y Z proporcionados es: 497.56 MeV\n"
     ]
    }
   ],
   "source": [
    "A=float(input(\"Ingrese el valor de masa A del átomo:\"))\n",
    "Z=float(input(\"Ingrese el número atómico de del elemento:\"))\n",
    "a1=15.8\n",
    "a2=18.3\n",
    "a3=0.714\n",
    "a4=23.2\n",
    "if A % 2 == 1:  # A impar\n",
    "    a5 = 0\n",
    "elif A % 2 == 0 and Z % 2 == 0:  # Ambos pares\n",
    "    a5 = 12.0\n",
    "elif A % 2 == 0 and Z % 2 == 1:  # A par y Z impar\n",
    "    a5 = -12.0\n",
    "B=a1*A-a2*A**(2/3)-a3*Z**2/A**(1/3)-a4*((A-2*Z)**2/A)+a5/A**(1/2)\n",
    "print(f\"La energía de enlace del átomo con A y Z proporcionados es: {B:.2f} MeV\")"
   ]
  },
  {
   "cell_type": "markdown",
   "metadata": {},
   "source": [
    "### b) Modifica el programa del inciso anterior, para escribir una segunda versión que imprima no la energía de enlace total \\( B \\), sino la energía de unión por nucleón, que es \\( B / A \\).\n",
    "    "
   ]
  },
  {
   "cell_type": "code",
   "execution_count": 12,
   "metadata": {},
   "outputs": [
    {
     "name": "stdin",
     "output_type": "stream",
     "text": [
      "Ingrese el valor de masa A del átomo: 58\n",
      "Ingrese el número atómico de del elemento: 28\n"
     ]
    },
    {
     "name": "stdout",
     "output_type": "stream",
     "text": [
      "La energía de enlace del átomo con A y Z proporcionados es: 497.56 MeV\n",
      "La energía de unión por nucleón dado B y A es 8.58 MeV\n"
     ]
    }
   ],
   "source": [
    "A=float(input(\"Ingrese el valor de masa A del átomo:\"))\n",
    "Z=float(input(\"Ingrese el número atómico de del elemento:\"))\n",
    "a1=15.8\n",
    "a2=18.3\n",
    "a3=0.714\n",
    "a4=23.2\n",
    "if A % 2 == 1:  # A impar\n",
    "    a5 = 0\n",
    "elif A % 2 == 0 and Z % 2 == 0:  # Ambos pares\n",
    "    a5 = 12.0\n",
    "elif A % 2 == 0 and Z % 2 == 1:  # A par y Z impar\n",
    "    a5 = -12.0\n",
    "B=a1*A-a2*A**(2/3)-a3*Z**2/A**(1/3)-a4*((A-2*Z)**2/A)+a5/A**(1/2)\n",
    "print(f\"La energía de enlace del átomo con A y Z proporcionados es: {B:.2f} MeV\")\n",
    "EpN=B/A\n",
    "print(f\"La energía de unión por nucleón dado B y A es {EpN:.2f} MeV\")"
   ]
  },
  {
   "cell_type": "markdown",
   "metadata": {},
   "source": [
    "### c) Escribe una tercera version del programa para que tome como entrada solo un valor del número atómico Z y luego pase por todos los valores de A desde A = Z hasta A = 3Z, para encontrar el que tiene la mayor energ ́ıa de enlace por nucleon. Este es el nucleo más estable con el número atómico dado. Haz que tu programa imprima el valor de A para este nucleo más estable y el valor de la energía de enlace por nucleon."
   ]
  },
  {
   "cell_type": "code",
   "execution_count": 35,
   "metadata": {},
   "outputs": [
    {
     "name": "stdin",
     "output_type": "stream",
     "text": [
      "Ingrese el número atómico de del elemento: 28\n"
     ]
    },
    {
     "name": "stdout",
     "output_type": "stream",
     "text": [
      "\n",
      "El núcleo más estable para Z = 28 es A = 62\n",
      "Energía de enlace por nucleón: 8.70 MeV\n"
     ]
    }
   ],
   "source": [
    "Z=int(input(\"Ingrese el número atómico de del elemento:\"))\n",
    "a1=15.8\n",
    "a2=18.3\n",
    "a3=0.714\n",
    "a4=23.2\n",
    "Mejor_A=Z\n",
    "Mejor_EnergiaN=0\n",
    "def EnergiaEnlace(A,Z):\n",
    "\n",
    "    a1=15.8\n",
    "    a2=18.3\n",
    "    a3=0.714\n",
    "    a4=23.2\n",
    "    if A % 2 == 1:  # A impar\n",
    "        a5 = 0\n",
    "    elif A % 2 == 0 and Z % 2 == 0:  # Ambos pares\n",
    "        a5 = 12.0\n",
    "    elif A % 2 == 0 and Z % 2 == 1:  # A par y Z impar\n",
    "        a5 = -12.0\n",
    "    B=a1*A-a2*A**(2/3)-a3*Z**2/A**(1/3)-a4*((A-2*Z)**2/A)+a5/A**(1/2)\n",
    "    return B\n",
    "for A in range(Z,3*Z+1):\n",
    "    B=EnergiaEnlace(A,Z)\n",
    "    EnergiaNucleon=B/A\n",
    "    if EnergiaNucleon > Mejor_EnergiaN:\n",
    "        Mejor_EnergiaN=EnergiaNucleon\n",
    "        Mejor_A=A\n",
    "print(f\"\\nEl núcleo más estable para Z = {Z} es A = {Mejor_A}\")\n",
    "print(f\"Energía de enlace por nucleón: {Mejor_EnergiaN:.2f} MeV\")"
   ]
  },
  {
   "cell_type": "markdown",
   "metadata": {},
   "source": [
    "### d) Finalmente, escribe una cuarta version del programa que, en lugar de tomar  ́ Z como entrada, se ejecute a traves de todos los valores de  ́ Z de 1 a 100 e imprima el valor mas estable de  ́ A para cada uno. ¿A que valor de  ́ Z se produce la energ ́ıa de enlace maxima por nucle  ́ on? (La respuesta correcta, en la vida real, es  ́ Z = 28, que corresponde al N ́ıquel)."
   ]
  },
  {
   "cell_type": "code",
   "execution_count": 3,
   "metadata": {},
   "outputs": [
    {
     "name": "stdout",
     "output_type": "stream",
     "text": [
      "Z =   1 | Mejor A =   3 | Energía por nucleón = 0.37 MeV\n",
      "Z =   2 | Mejor A =   4 | Energía por nucleón = 5.32 MeV\n",
      "Z =   3 | Mejor A =   7 | Energía por nucleón = 5.28 MeV\n",
      "Z =   4 | Mejor A =   8 | Energía por nucleón = 6.47 MeV\n",
      "Z =   5 | Mejor A =  11 | Energía por nucleón = 6.65 MeV\n",
      "Z =   6 | Mejor A =  14 | Energía por nucleón = 7.20 MeV\n",
      "Z =   7 | Mejor A =  15 | Energía por nucleón = 7.33 MeV\n",
      "Z =   8 | Mejor A =  18 | Energía por nucleón = 7.72 MeV\n",
      "Z =   9 | Mejor A =  19 | Energía por nucleón = 7.74 MeV\n",
      "Z =  10 | Mejor A =  22 | Energía por nucleón = 8.04 MeV\n",
      "Z =  11 | Mejor A =  25 | Energía por nucleón = 8.03 MeV\n",
      "Z =  12 | Mejor A =  26 | Energía por nucleón = 8.24 MeV\n",
      "Z =  13 | Mejor A =  29 | Energía por nucleón = 8.24 MeV\n",
      "Z =  14 | Mejor A =  30 | Energía por nucleón = 8.38 MeV\n",
      "Z =  15 | Mejor A =  33 | Energía por nucleón = 8.39 MeV\n",
      "Z =  16 | Mejor A =  36 | Energía por nucleón = 8.49 MeV\n",
      "Z =  17 | Mejor A =  37 | Energía por nucleón = 8.48 MeV\n",
      "Z =  18 | Mejor A =  40 | Energía por nucleón = 8.57 MeV\n",
      "Z =  19 | Mejor A =  43 | Energía por nucleón = 8.55 MeV\n",
      "Z =  20 | Mejor A =  44 | Energía por nucleón = 8.63 MeV\n",
      "Z =  21 | Mejor A =  47 | Energía por nucleón = 8.61 MeV\n",
      "Z =  22 | Mejor A =  48 | Energía por nucleón = 8.66 MeV\n",
      "Z =  23 | Mejor A =  51 | Energía por nucleón = 8.65 MeV\n",
      "Z =  24 | Mejor A =  54 | Energía por nucleón = 8.69 MeV\n",
      "Z =  25 | Mejor A =  55 | Energía por nucleón = 8.66 MeV\n",
      "Z =  26 | Mejor A =  58 | Energía por nucleón = 8.70 MeV\n",
      "Z =  27 | Mejor A =  61 | Energía por nucleón = 8.68 MeV\n",
      "Z =  28 | Mejor A =  62 | Energía por nucleón = 8.70 MeV\n",
      "Z =  29 | Mejor A =  65 | Energía por nucleón = 8.68 MeV\n",
      "Z =  30 | Mejor A =  68 | Energía por nucleón = 8.70 MeV\n",
      "Z =  31 | Mejor A =  69 | Energía por nucleón = 8.68 MeV\n",
      "Z =  32 | Mejor A =  72 | Energía por nucleón = 8.69 MeV\n",
      "Z =  33 | Mejor A =  75 | Energía por nucleón = 8.67 MeV\n",
      "Z =  34 | Mejor A =  76 | Energía por nucleón = 8.68 MeV\n",
      "Z =  35 | Mejor A =  79 | Energía por nucleón = 8.65 MeV\n",
      "Z =  36 | Mejor A =  82 | Energía por nucleón = 8.66 MeV\n",
      "Z =  37 | Mejor A =  85 | Energía por nucleón = 8.63 MeV\n",
      "Z =  38 | Mejor A =  86 | Energía por nucleón = 8.64 MeV\n",
      "Z =  39 | Mejor A =  89 | Energía por nucleón = 8.61 MeV\n",
      "Z =  40 | Mejor A =  92 | Energía por nucleón = 8.61 MeV\n",
      "Z =  41 | Mejor A =  93 | Energía por nucleón = 8.59 MeV\n",
      "Z =  42 | Mejor A =  96 | Energía por nucleón = 8.59 MeV\n",
      "Z =  43 | Mejor A =  99 | Energía por nucleón = 8.56 MeV\n",
      "Z =  44 | Mejor A = 102 | Energía por nucleón = 8.56 MeV\n",
      "Z =  45 | Mejor A = 103 | Energía por nucleón = 8.53 MeV\n",
      "Z =  46 | Mejor A = 106 | Energía por nucleón = 8.53 MeV\n",
      "Z =  47 | Mejor A = 109 | Energía por nucleón = 8.50 MeV\n",
      "Z =  48 | Mejor A = 110 | Energía por nucleón = 8.49 MeV\n",
      "Z =  49 | Mejor A = 113 | Energía por nucleón = 8.47 MeV\n",
      "Z =  50 | Mejor A = 116 | Energía por nucleón = 8.46 MeV\n",
      "Z =  51 | Mejor A = 119 | Energía por nucleón = 8.43 MeV\n",
      "Z =  52 | Mejor A = 120 | Energía por nucleón = 8.42 MeV\n",
      "Z =  53 | Mejor A = 123 | Energía por nucleón = 8.40 MeV\n",
      "Z =  54 | Mejor A = 126 | Energía por nucleón = 8.39 MeV\n",
      "Z =  55 | Mejor A = 129 | Energía por nucleón = 8.36 MeV\n",
      "Z =  56 | Mejor A = 130 | Energía por nucleón = 8.35 MeV\n",
      "Z =  57 | Mejor A = 133 | Energía por nucleón = 8.32 MeV\n",
      "Z =  58 | Mejor A = 136 | Energía por nucleón = 8.31 MeV\n",
      "Z =  59 | Mejor A = 139 | Energía por nucleón = 8.29 MeV\n",
      "Z =  60 | Mejor A = 140 | Energía por nucleón = 8.27 MeV\n",
      "Z =  61 | Mejor A = 143 | Energía por nucleón = 8.25 MeV\n",
      "Z =  62 | Mejor A = 146 | Energía por nucleón = 8.23 MeV\n",
      "Z =  63 | Mejor A = 149 | Energía por nucleón = 8.21 MeV\n",
      "Z =  64 | Mejor A = 150 | Energía por nucleón = 8.19 MeV\n",
      "Z =  65 | Mejor A = 153 | Energía por nucleón = 8.17 MeV\n",
      "Z =  66 | Mejor A = 156 | Energía por nucleón = 8.15 MeV\n",
      "Z =  67 | Mejor A = 159 | Energía por nucleón = 8.13 MeV\n",
      "Z =  68 | Mejor A = 162 | Energía por nucleón = 8.11 MeV\n",
      "Z =  69 | Mejor A = 163 | Energía por nucleón = 8.09 MeV\n",
      "Z =  70 | Mejor A = 166 | Energía por nucleón = 8.07 MeV\n",
      "Z =  71 | Mejor A = 169 | Energía por nucleón = 8.05 MeV\n",
      "Z =  72 | Mejor A = 172 | Energía por nucleón = 8.03 MeV\n",
      "Z =  73 | Mejor A = 175 | Energía por nucleón = 8.00 MeV\n",
      "Z =  74 | Mejor A = 176 | Energía por nucleón = 7.99 MeV\n",
      "Z =  75 | Mejor A = 179 | Energía por nucleón = 7.96 MeV\n",
      "Z =  76 | Mejor A = 182 | Energía por nucleón = 7.95 MeV\n",
      "Z =  77 | Mejor A = 185 | Energía por nucleón = 7.92 MeV\n",
      "Z =  78 | Mejor A = 188 | Energía por nucleón = 7.90 MeV\n",
      "Z =  79 | Mejor A = 191 | Energía por nucleón = 7.88 MeV\n",
      "Z =  80 | Mejor A = 192 | Energía por nucleón = 7.86 MeV\n",
      "Z =  81 | Mejor A = 195 | Energía por nucleón = 7.84 MeV\n",
      "Z =  82 | Mejor A = 198 | Energía por nucleón = 7.82 MeV\n",
      "Z =  83 | Mejor A = 201 | Energía por nucleón = 7.79 MeV\n",
      "Z =  84 | Mejor A = 204 | Energía por nucleón = 7.78 MeV\n",
      "Z =  85 | Mejor A = 205 | Energía por nucleón = 7.75 MeV\n",
      "Z =  86 | Mejor A = 208 | Energía por nucleón = 7.74 MeV\n",
      "Z =  87 | Mejor A = 211 | Energía por nucleón = 7.71 MeV\n",
      "Z =  88 | Mejor A = 214 | Energía por nucleón = 7.69 MeV\n",
      "Z =  89 | Mejor A = 217 | Energía por nucleón = 7.67 MeV\n",
      "Z =  90 | Mejor A = 220 | Energía por nucleón = 7.65 MeV\n",
      "Z =  91 | Mejor A = 223 | Energía por nucleón = 7.63 MeV\n",
      "Z =  92 | Mejor A = 224 | Energía por nucleón = 7.61 MeV\n",
      "Z =  93 | Mejor A = 227 | Energía por nucleón = 7.58 MeV\n",
      "Z =  94 | Mejor A = 230 | Energía por nucleón = 7.57 MeV\n",
      "Z =  95 | Mejor A = 233 | Energía por nucleón = 7.54 MeV\n",
      "Z =  96 | Mejor A = 236 | Energía por nucleón = 7.52 MeV\n",
      "Z =  97 | Mejor A = 239 | Energía por nucleón = 7.50 MeV\n",
      "Z =  98 | Mejor A = 242 | Energía por nucleón = 7.48 MeV\n",
      "Z =  99 | Mejor A = 243 | Energía por nucleón = 7.46 MeV\n",
      "Z = 100 | Mejor A = 246 | Energía por nucleón = 7.44 MeV\n",
      "\n",
      "------------------------------------------------------------\n",
      "Z con mayor energía por nucleón: Z = 28\n",
      "A más estable en ese Z: A = 62\n",
      "Energía por nucleón máxima: 8.70 MeV\n"
     ]
    }
   ],
   "source": [
    "a1=15.8\n",
    "a2=18.3\n",
    "a3=0.714\n",
    "a4=23.2\n",
    "def EnergiaEnlace(A,Z):\n",
    "\n",
    "    a1=15.8\n",
    "    a2=18.3\n",
    "    a3=0.714\n",
    "    a4=23.2\n",
    "    if A % 2 == 1:  # A impar\n",
    "        a5 = 0\n",
    "    elif A % 2 == 0 and Z % 2 == 0:  # Ambos pares\n",
    "        a5 = 12.0\n",
    "    elif A % 2 == 0 and Z % 2 == 1:  # A par y Z impar\n",
    "        a5 = -12.0\n",
    "    B=a1*A-a2*A**(2/3)-a3*Z**2/A**(1/3)-a4*((A-2*Z)**2/A)+a5/A**(1/2)\n",
    "    return B\n",
    "Mejor_Z_Global = 0\n",
    "Mejor_A_Global = 0\n",
    "Mejor_Energia_Global = 0\n",
    "for Z in range (1, 101):\n",
    "    Mejor_A=Z\n",
    "    Mejor_EnergiaN=0\n",
    "    for A in range(Z,Z*3+1):\n",
    "        B=EnergiaEnlace(A,Z)\n",
    "        EnergiaNucleon=B/A\n",
    "        if EnergiaNucleon > Mejor_EnergiaN:\n",
    "            Mejor_EnergiaN=EnergiaNucleon\n",
    "            Mejor_A=A\n",
    "    print(f\"Z = {Z:3} | Mejor A = {Mejor_A:3} | Energía por nucleón = {Mejor_EnergiaN:.2f} MeV\")\n",
    "     # Verificar si este Z tiene la mejor energía global\n",
    "    if Mejor_EnergiaN > Mejor_Energia_Global:\n",
    "        Mejor_Energia_Global = Mejor_EnergiaN\n",
    "        Mejor_Z_Global = Z\n",
    "        Mejor_A_Global = Mejor_A\n",
    "\n",
    "print(\"\\n\" + \"-\" * 60)\n",
    "print(f\"Z con mayor energía por nucleón: Z = {Mejor_Z_Global}\")\n",
    "print(f\"A más estable en ese Z: A = {Mejor_A_Global}\")\n",
    "print(f\"Energía por nucleón máxima: {Mejor_Energia_Global:.2f} MeV\")"
   ]
  },
  {
   "cell_type": "markdown",
   "metadata": {},
   "source": [
    "### 5. La constante de Madelung  \n",
    "En física de la materia condensada, la constante de Madelung da el potencial eléctrico  \n",
    "total que siente un átomo en un sólido; y depende de las cargas de los otros átomos  \n",
    "cercanos y de sus ubicaciones.  \n",
    "Por ejemplo, el cristal de cloruro de sodio sólido (la sal de mesa), tiene átomos dispues-  \n",
    "tos en una red cúbica, con átomos de sodio y cloro alternados, teniendo los de sodio  \n",
    "una carga positiva $+e$ y los de cloro una negativa $-e$ (donde $e$ es la carga del electrón).  \n",
    "\n",
    "Si etiquetamos cada posición en la red con tres coordenadas enteras $(i, j, k)$, entonces  \n",
    "los átomos de sodio caen en posiciones donde $i + j + k$ es par, y los átomos de cloro en  \n",
    "posiciones donde $i + j + k$ es impar.  \n",
    "Consideremos un átomo de sodio en el origen, i.e. $i = j = k = 0$, y calculemos la  \n",
    "constante de Madelung. Si el espaciado de los átomos en la red es $a$, entonces la distancia  \n",
    "desde el origen al átomo en la posición $(i, j, k)$ es:  \n",
    "\n",
    "$a \\sqrt{i^2 + j^2 + k^2}$  \n",
    "\n",
    "y el potencial en el origen creado por tal átomo es:  \n",
    "\n",
    "$V(i, j, k) = \\pm \\dfrac{e}{4\\pi\\varepsilon_0 a \\sqrt{i^2 + j^2 + k^2}}$  \n",
    "\n",
    "siendo $\\varepsilon_0$ la permitividad del vacío y el signo de la expresión se toma dependiendo de  \n",
    "si $i + j + k$ es par o impar. Así entonces, el potencial total que siente el átomo de sodio  \n",
    "es la suma de esta cantidad sobre todos los demás átomos. Supongamos una caja cú-  \n",
    "bica alrededor del átomo de sodio en el origen, con $L$ átomos en todas las direcciones,  \n",
    "entonces:  \n",
    "\n",
    "$V_{\\text{total}} = \\sum\\limits_{\\substack{i,j,k=-L \\\\ (i,j,k)\\ne (0,0,0)}}^{L} V(i, j, k) = \\dfrac{e}{4\\pi\\varepsilon_0 a} \\cdot M$  \n",
    "\n",
    "donde $M$ es la constante de Madelung (al menos aproximadamente).  \n",
    "Técnicamente, la constante de Madelung es el valor de $M$ cuando $L \\to \\infty$, pero se  \n",
    "puede obtener una buena aproximación simplemente usando un valor grande de $L$.  \n",
    "Escribe un programa para calcular e imprimir la constante de Madelung para el cloruro  \n",
    "de sodio. Utiliza un valor de $L$ tan grande como puedas, sin dejar que tu programa se  \n",
    "ejecute en un tiempo razonable (un minuto o menos).\n"
   ]
  },
  {
   "cell_type": "code",
   "execution_count": 17,
   "metadata": {},
   "outputs": [
    {
     "name": "stdin",
     "output_type": "stream",
     "text": [
      "Introduce el valor de L como la distancia desde el origen:  100\n"
     ]
    },
    {
     "name": "stdout",
     "output_type": "stream",
     "text": [
      " La aproximación para la de Madelung para L = 100 será -1.741820\n"
     ]
    }
   ],
   "source": [
    "import time\n",
    "\n",
    "L = int(input(\"Introduce el valor de L como la distancia desde el origen: \"))\n",
    "tiempo_maximo = 60 \n",
    "inicio = time.time()\n",
    "\n",
    "M = 0.0\n",
    "completo = True\n",
    "\n",
    "for i in range(-L, L + 1):\n",
    "    for j in range(-L, L + 1):\n",
    "        for k in range(-L, L + 1):\n",
    "            if i == 0 and j == 0 and k == 0:\n",
    "                continue\n",
    "            r = (i**2 + j**2 + k**2)**0.5\n",
    "            signo = 1 if (i + j + k) % 2 == 0 else -1\n",
    "            M = M + signo / r\n",
    "\n",
    "            if time.time() - inicio > tiempo_maximo:\n",
    "                completo = False\n",
    "                break\n",
    "        if not completo:\n",
    "            break\n",
    "    if not completo:\n",
    "        break\n",
    "\n",
    "if completo:\n",
    "    print(f\" La aproximación para la de Madelung para L = {L} será {M:.6f}\")\n",
    "else:\n",
    "    print(\"El tiempo se agotó. El valor de L =\", L,\" tomó demasiado tiempo, el programa se cierra.\")\n",
    "    print(\"Prueba con un L más pequeño.\")\n"
   ]
  },
  {
   "cell_type": "markdown",
   "metadata": {},
   "source": [
    "### 6. Coeficientes binomiales\n",
    "\n",
    "El coeficiente binomial  \n",
    "$ \\binom{n}{k} $  \n",
    "es un número entero igual a:\n",
    "\n",
    "$ \\binom{n}{k} = \\dfrac{n!}{k!(n - k)!} = \\dfrac{n \\cdot (n - 1) \\cdot (n - 2) \\cdots (n - k + 1)}{1 \\cdot 2 \\cdots k} $\n",
    "\n",
    "donde $k \\geq 1$, o bien  \n",
    "$ \\binom{n}{0} = 1 $ cuando $k = 0$.\n"
   ]
  },
  {
   "cell_type": "markdown",
   "metadata": {},
   "source": [
    "a) Utiliza esta fórmula para escribir una función llamada `binomial(n, k)` (o como  \n",
    "tú quieras) que calcule el coeficiente binomial para un $n$ y $k$ dados.  \n",
    "Asegúrate de que tu función devuelva la respuesta en forma de un número entero  \n",
    "(no flotante) y proporcione el valor correcto de $1$ para el caso en que $k = 0$."
   ]
  },
  {
   "cell_type": "code",
   "execution_count": 25,
   "metadata": {
    "scrolled": true
   },
   "outputs": [
    {
     "name": "stdin",
     "output_type": "stream",
     "text": [
      "Ingrese el numéro n: 9\n",
      "Ingrese el numéro k: 3\n"
     ]
    },
    {
     "name": "stdout",
     "output_type": "stream",
     "text": [
      "El binomial de n y k dados es 119\n"
     ]
    }
   ],
   "source": [
    "def binomial(n,k):\n",
    "    if k==0:\n",
    "        return 1\n",
    "    numerador = 1\n",
    "    denominador = 1\n",
    "    for i in range (1, k+1):\n",
    "        numerador = numerador*n-(i-1)\n",
    "        denominador = denominador*i\n",
    "    return numerador // denominador\n",
    "n=int(input(\"Ingrese el numéro n:\"))\n",
    "k=int(input(\"Ingrese el numéro k:\"))\n",
    "print(\"El binomial de n y k dados es\", binomial(n,k))"
   ]
  },
  {
   "cell_type": "markdown",
   "metadata": {},
   "source": [
    "b) Usando tu función, escribe un programa que imprima las primeras 20 líneas del  \n",
    "“triángulo de Pascal’’. La $n$-ésima línea del triángulo de Pascal contiene  \n",
    "$n + 1$ números, que son los coeficientes  \n",
    "$ \\binom{n}{0}, \\binom{n}{1}, \\ldots, \\binom{n}{n} $.  \n",
    "\n",
    "De tal manera que las primeras líneas son:  \n",
    "1  \n",
    "1 1  \n",
    "1 2 1  \n",
    "1 3 3 1  \n",
    "1 4 6 4 1\n"
   ]
  },
  {
   "cell_type": "code",
   "execution_count": 46,
   "metadata": {},
   "outputs": [
    {
     "name": "stdout",
     "output_type": "stream",
     "text": [
      "1\n",
      "1 1\n",
      "1 2 1\n",
      "1 3 3 1\n",
      "1 4 6 4 1\n",
      "1 5 10 10 5 1\n",
      "1 6 15 20 15 6 1\n",
      "1 7 21 35 35 21 7 1\n",
      "1 8 28 56 70 56 28 8 1\n",
      "1 9 36 84 126 126 84 36 9 1\n",
      "1 10 45 120 210 252 210 120 45 10 1\n",
      "1 11 55 165 330 462 462 330 165 55 11 1\n",
      "1 12 66 220 495 792 924 792 495 220 66 12 1\n",
      "1 13 78 286 715 1287 1716 1716 1287 715 286 78 13 1\n",
      "1 14 91 364 1001 2002 3003 3432 3003 2002 1001 364 91 14 1\n",
      "1 15 105 455 1365 3003 5005 6435 6435 5005 3003 1365 455 105 15 1\n",
      "1 16 120 560 1820 4368 8008 11440 12870 11440 8008 4368 1820 560 120 16 1\n",
      "1 17 136 680 2380 6188 12376 19448 24310 24310 19448 12376 6188 2380 680 136 17 1\n",
      "1 18 153 816 3060 8568 18564 31824 43758 48620 43758 31824 18564 8568 3060 816 153 18 1\n",
      "1 19 171 969 3876 11628 27132 50388 75582 92378 92378 75582 50388 27132 11628 3876 969 171 19 1\n"
     ]
    }
   ],
   "source": [
    "f=20\n",
    "def binomial(n,k):\n",
    "    if k==0:\n",
    "        return 1\n",
    "    numerador = 1\n",
    "    denominador = 1\n",
    "    for i in range (1, k+1):\n",
    "        numerador = (numerador)*(n-(i-1))\n",
    "        denominador = denominador*i\n",
    "    return numerador // denominador\n",
    "for n in range(f):\n",
    "    linea=' '\n",
    "    for k in range (n+1):\n",
    "        linea=linea + str(binomial(n,k))+ ' '\n",
    "    print(linea.strip())"
   ]
  },
  {
   "cell_type": "markdown",
   "metadata": {},
   "source": [
    "c) La probabilidad de que para una moneda no sesgada, lanzada $n$ veces, salga águila $k$ veces es:\n",
    "\n",
    "$ p(k|n) = \\dfrac{\\binom{n}{k}}{2^n} $\n",
    "\n",
    "Escribe un programa para calcular:  \n",
    "1) La probabilidad total de que una moneda lanzada 100 veces, salga águila exactamente 60 veces.  \n",
    "2) La probabilidad de que salga águila 60 veces o más.\n"
   ]
  },
  {
   "cell_type": "code",
   "execution_count": 47,
   "metadata": {},
   "outputs": [
    {
     "name": "stdout",
     "output_type": "stream",
     "text": [
      "La probabilidad exacta de 60 águilas en 100 lanzamientos será de: 0.0108438667\n",
      "La probabilidad de 60 o más águilas en 100 lanzamientos será de: 0.0284439668\n"
     ]
    }
   ],
   "source": [
    "def binomial(n, k):\n",
    "    if k == 0 or k == n:\n",
    "        return 1\n",
    "    numerador = 1\n",
    "    denominador = 1\n",
    "    for i in range(1, k + 1):\n",
    "        numerador =numerador* (n - (i - 1))\n",
    "        denominador =denominador * i\n",
    "    return numerador // denominador\n",
    "\n",
    "def probabilidad(k, n):\n",
    "    return binomial(n, k) / (2 ** n)\n",
    "\n",
    "\n",
    "exct = probabilidad(60, 100)\n",
    "print(f\"La probabilidad exacta de 60 águilas en 100 lanzamientos será de: {exct:.10f}\")\n",
    "\n",
    "suma = 0\n",
    "for k in range(60, 101):\n",
    "    suma =suma + probabilidad(k, 100)\n",
    "print(f\"La probabilidad de 60 o más águilas en 100 lanzamientos será de: {suma:.10f}\")\n"
   ]
  },
  {
   "cell_type": "markdown",
   "metadata": {},
   "source": [
    "### 7. Recursión\n",
    "\n",
    "Una característica muy útil de las funciones que podemos definir es la *recursividad*, es decir, la capacidad de una función de llamarse a sí misma. Por ejemplo, considere la siguiente definición del factorial $n!$ de un entero positivo $n$:\n",
    "\n",
    "$$\n",
    "n! = \n",
    "\\begin{cases}\n",
    "1 & \\text{si } n = 1, \\\\\n",
    "n \\times (n - 1)! & \\text{si } n > 1.\n",
    "\\end{cases}\n",
    "$$\n",
    "\n",
    "Esto constituye una definición completa del factorial que nos permite calcular el valor de $n!$ para cualquier entero positivo. Podemos emplear esta definición directamente para crear una función para calcular factoriales, como esta (en Python):\n",
    "\n",
    "```python\n",
    "def factorial(n):\n",
    "    if n == 1:\n",
    "        return 1\n",
    "    else:\n",
    "        return n * factorial(n - 1)\n",
    "\n"
   ]
  },
  {
   "cell_type": "markdown",
   "metadata": {},
   "source": [
    "Nota cómo si n no es igual a 1, la función se llama a sí misma para calcular el factorial de n - 1, de tal manera que al pedir print(factorial(5)), el intérprete de Python imprimirá correctamente la respuesta 120."
   ]
  },
  {
   "cell_type": "markdown",
   "metadata": {},
   "source": [
    "a) Anteriormente, en clase encontramos los números de Catalán $C_n$. Si hacemos una pequeña modificación, la definición de $C_n$ se puede reescribir de la siguiente forma:\n",
    "\n",
    "$$\n",
    "C_n =\n",
    "\\begin{cases}\n",
    "1 & \\text{si } n = 0, \\\\\n",
    "\\frac{4n - 2}{n + 1} C_{n-1} & \\text{si } n > 0.\n",
    "\\end{cases}\n",
    "$$\n",
    "\n",
    "Escribe una función, usando recursividad, que calcule $C_n$ y utilízala para calcular e imprimir $C_{100}$.\n"
   ]
  },
  {
   "cell_type": "code",
   "execution_count": 57,
   "metadata": {},
   "outputs": [
    {
     "name": "stdout",
     "output_type": "stream",
     "text": [
      "C_ 0 = 1\n",
      "C_ 1 = 1\n",
      "C_ 2 = 2\n",
      "C_ 3 = 5\n",
      "C_ 4 = 14\n",
      "C_ 5 = 42\n",
      "C_ 6 = 132\n",
      "C_ 7 = 429\n",
      "C_ 8 = 1430\n",
      "C_ 9 = 4862\n",
      "C_ 10 = 16796\n",
      "C_ 11 = 58786\n",
      "C_ 12 = 208012\n",
      "C_ 13 = 742900\n",
      "C_ 14 = 2674440\n",
      "C_ 15 = 9694845\n",
      "C_ 16 = 35357670\n",
      "C_ 17 = 129644790\n",
      "C_ 18 = 477638700\n",
      "C_ 19 = 1767263190\n",
      "C_ 20 = 6564120420\n",
      "C_ 21 = 24466267020\n",
      "C_ 22 = 91482563640\n",
      "C_ 23 = 343059613650\n",
      "C_ 24 = 1289904147324\n",
      "C_ 25 = 4861946401452\n",
      "C_ 26 = 18367353072152\n",
      "C_ 27 = 69533550916004\n",
      "C_ 28 = 263747951750360\n",
      "C_ 29 = 1002242216651368\n",
      "C_ 30 = 3814986502092304\n",
      "C_ 31 = 14544636039226909\n",
      "C_ 32 = 55534064877048198\n",
      "C_ 33 = 212336130412243110\n",
      "C_ 34 = 812944042149730764\n",
      "C_ 35 = 3116285494907301262\n",
      "C_ 36 = 11959798385860453492\n",
      "C_ 37 = 45950804324621742364\n",
      "C_ 38 = 176733862787006701400\n",
      "C_ 39 = 680425371729975800390\n",
      "C_ 40 = 2622127042276492108820\n",
      "C_ 41 = 10113918591637898134020\n",
      "C_ 42 = 39044429911904443959240\n",
      "C_ 43 = 150853479205085351660700\n",
      "C_ 44 = 583300119592996693088040\n",
      "C_ 45 = 2257117854077248073253720\n",
      "C_ 46 = 8740328711533173390046320\n",
      "C_ 47 = 33868773757191046886429490\n",
      "C_ 48 = 131327898242169365477991900\n",
      "C_ 49 = 509552245179617138054608572\n",
      "C_ 50 = 1978261657756160653623774456\n",
      "C_ 51 = 7684785670514316385230816156\n",
      "C_ 52 = 29869166945772625950142417512\n",
      "C_ 53 = 116157871455782434250553845880\n",
      "C_ 54 = 451959718027953471447609509424\n",
      "C_ 55 = 1759414616608818870992479875972\n",
      "C_ 56 = 6852456927844873497549658464312\n",
      "C_ 57 = 26700952856774851904245220912664\n",
      "C_ 58 = 104088460289122304033498318812080\n",
      "C_ 59 = 405944995127576985730643443367112\n",
      "C_ 60 = 1583850964596120042686772779038896\n",
      "C_ 61 = 6182127958584855650487080847216336\n",
      "C_ 62 = 24139737743045626825711458546273312\n",
      "C_ 63 = 94295850558771979787935384946380125\n",
      "C_ 64 = 368479169875816659479009042713546950\n",
      "C_ 65 = 1440418573150919668872489894243865350\n",
      "C_ 66 = 5632681584560312734993915705849145100\n",
      "C_ 67 = 22033725021956517463358552614056949950\n",
      "C_ 68 = 86218923998960285726185640663701108500\n",
      "C_ 69 = 337485502510215975556783793455058624700\n",
      "C_ 70 = 1321422108420282270489942177190229544600\n",
      "C_ 71 = 5175569924646105559418940193995065716350\n",
      "C_ 72 = 20276890389709399862928998568254641025700\n",
      "C_ 73 = 79463489365077377841208237632349268884500\n",
      "C_ 74 = 311496878311103321137536291518809134027240\n",
      "C_ 75 = 1221395654430378811828760722007962130791020\n",
      "C_ 76 = 4790408930363303911328386208394864461024520\n",
      "C_ 77 = 18793142726809884575211361279087545193250040\n",
      "C_ 78 = 73745243611532458459690151854647329239335600\n",
      "C_ 79 = 289450081175264899454283846029490767264392230\n",
      "C_ 80 = 1136359577947336271931632877004667456667613940\n",
      "C_ 81 = 4462290049988320482463241297506133183499654740\n",
      "C_ 82 = 17526585015616776834735140517915655636396234280\n",
      "C_ 83 = 68854441132780194707888052034668647142985206100\n",
      "C_ 84 = 270557451039395118028642463289168566420671280440\n",
      "C_ 85 = 1063353702922273835973036658043476458723103404520\n",
      "C_ 86 = 4180080073556524734514695828170907458428751314320\n",
      "C_ 87 = 16435314834665426797069144960762886143367590394940\n",
      "C_ 88 = 64633260585762914370496637486146181462681535261000\n",
      "C_ 89 = 254224158304000796523953440778841647086547372026600\n",
      "C_ 90 = 1000134600800354781929399250536541864362461089950800\n",
      "C_ 91 = 3935312233584004685417853572763349509774031680023800\n",
      "C_ 92 = 15487357822491889407128326963778343232013931127835600\n",
      "C_ 93 = 60960876535340415751462563580829648891969728907438000\n",
      "C_ 94 = 239993345518077005168915776623476723006280827488229600\n",
      "C_ 95 = 944973797977428207852605870454939596837230758234904050\n",
      "C_ 96 = 3721443204405954385563870541379246659709506697378694300\n",
      "C_ 97 = 14657929356129575437016877846657032761712954950899755100\n",
      "C_ 98 = 57743358069601357782187700608042856334020731624756611000\n",
      "C_ 99 = 227508830794229349661819540395688853956041682601541047340\n",
      "C_ 100 = 896519947090131496687170070074100632420837521538745909320\n"
     ]
    }
   ],
   "source": [
    "def catalan(n):\n",
    "        if n==0:\n",
    "            Cn = 1\n",
    "        else:\n",
    "            Cn = ((4 * n - 2) * catalan(n - 1)) // (n + 1)\n",
    "        return Cn\n",
    "for i in range (0,101):\n",
    "    print(\"C_\",i,\"=\",catalan(i))"
   ]
  },
  {
   "cell_type": "markdown",
   "metadata": {},
   "source": [
    "b) Euclides demostró que el máximo común divisor $g(m, n)$ de dos enteros no negativos $m$ y $n$ satisface que:\n",
    "\n",
    "$$\n",
    "g(m, n) =\n",
    "\\begin{cases}\n",
    "m & \\text{si } n = 0, \\\\\n",
    "g(n, m \\bmod n) & \\text{si } n > 0.\n",
    "\\end{cases}\n",
    "$$\n",
    "\n",
    "Usando esta fórmula, escribe una función $g(m, n)$ que emplee recursividad para calcular el máximo común divisor de $m$ y $n$. Usa tu función para calcular e imprimir el máximo común divisor de $108$ y $192$."
   ]
  },
  {
   "cell_type": "code",
   "execution_count": 61,
   "metadata": {},
   "outputs": [
    {
     "name": "stdin",
     "output_type": "stream",
     "text": [
      "Ingrese el número m: 192\n",
      "Ingrese el número n: 108\n"
     ]
    },
    {
     "name": "stdout",
     "output_type": "stream",
     "text": [
      "El máximo común divisor emtre m y n dados es 12\n"
     ]
    }
   ],
   "source": [
    "def g(m,n):\n",
    "    if n==0:\n",
    "        return m\n",
    "    else:\n",
    "        return g(n, m % n)\n",
    "n=int(input(\"Ingrese el número m:\"))\n",
    "m=int(input(\"Ingrese el número n:\"))\n",
    "print(\"El máximo común divisor emtre m y n dados es\", g(m,n))"
   ]
  },
  {
   "cell_type": "markdown",
   "metadata": {},
   "source": [
    "Comparando el cálculo de los números de Catalán del inciso 7a con lo hecho en clase, vemos que es posible hacer el cálculo de dos maneras: ya sea directamente o usando recursividad.\n",
    "\n",
    "En la mayoría de los casos, si una cantidad se puede calcular sin recursividad, será más rápido y normalmente se recomienda hacerlo así, si es posible. Sin embargo, hay algunos cálculos que son esencialmente imposibles (o al menos mucho más difíciles) sin recursividad."
   ]
  }
 ],
 "metadata": {
  "@webio": {
   "lastCommId": null,
   "lastKernelId": null
  },
  "kernelspec": {
   "display_name": "Python 3 (ipykernel)",
   "language": "python",
   "name": "python3"
  },
  "language_info": {
   "codemirror_mode": {
    "name": "ipython",
    "version": 3
   },
   "file_extension": ".py",
   "mimetype": "text/x-python",
   "name": "python",
   "nbconvert_exporter": "python",
   "pygments_lexer": "ipython3",
   "version": "3.13.2"
  }
 },
 "nbformat": 4,
 "nbformat_minor": 4
}
